{
 "cells": [
  {
   "cell_type": "markdown",
   "metadata": {
    "colab_type": "text",
    "id": "3DR-eO17geWu"
   },
   "source": [
    "# Convolutional Neural Network"
   ]
  },
  {
   "cell_type": "markdown",
   "metadata": {
    "colab_type": "text",
    "id": "EMefrVPCg-60"
   },
   "source": [
    "### Importing the libraries"
   ]
  },
  {
   "cell_type": "code",
   "execution_count": 1,
   "metadata": {
    "colab": {},
    "colab_type": "code",
    "id": "sCV30xyVhFbE"
   },
   "outputs": [],
   "source": [
    "import tensorflow as tf\n",
    "from tensorflow.keras.preprocessing.image import ImageDataGenerator\n",
    "import numpy as np"
   ]
  },
  {
   "cell_type": "code",
   "execution_count": 2,
   "metadata": {
    "colab": {},
    "colab_type": "code",
    "id": "FIleuCAjoFD8"
   },
   "outputs": [
    {
     "data": {
      "text/plain": [
       "'2.20.0'"
      ]
     },
     "execution_count": 2,
     "metadata": {},
     "output_type": "execute_result"
    }
   ],
   "source": [
    "tf.__version__"
   ]
  },
  {
   "cell_type": "markdown",
   "metadata": {
    "colab_type": "text",
    "id": "oxQxCBWyoGPE"
   },
   "source": [
    "## Part 1 - Data Preprocessing"
   ]
  },
  {
   "cell_type": "markdown",
   "metadata": {
    "colab_type": "text",
    "id": "MvE-heJNo3GG"
   },
   "source": [
    "### Preprocessing the Training set"
   ]
  },
  {
   "cell_type": "code",
   "execution_count": 6,
   "metadata": {},
   "outputs": [
    {
     "name": "stdout",
     "output_type": "stream",
     "text": [
      "🔄 Step 1: Cropping YOLO-labeled images...\n",
      "✅ Step 1 complete! Saved 5957 cropped images to C:\\Users\\DELL\\Downloads\\ML Test\\CNN\\Mask\\output\n",
      "\n"
     ]
    }
   ],
   "source": [
    "import os\n",
    "import re\n",
    "import random\n",
    "from PIL import Image\n",
    "from shutil import copy2\n",
    "\n",
    "\n",
    "# --- Source paths ---\n",
    "images_dir = r\"Downloads/ML Test/CNN/Mask/train/images\"   \n",
    "labels_dir = r\"Downloads/ML Test/CNN/Mask/train/labels\"   \n",
    "\n",
    "# --- Output folders ---\n",
    "output_dir = os.path.abspath(r\"Downloads/ML Test/CNN/Mask/output\")\n",
    "\n",
    "# --- Class mapping ---\n",
    "class_names = [\"mask_correct\", \"mask_incorrect\", \"no_mask\"]\n",
    "\n",
    "\n",
    "# STEP 1: Crop YOLO-labeled regions\n",
    "\n",
    "print(\"🔄 Step 1: Cropping YOLO-labeled images...\")\n",
    "\n",
    "os.makedirs(output_dir, exist_ok=True)\n",
    "for cls_name in class_names:\n",
    "    os.makedirs(os.path.join(output_dir, cls_name), exist_ok=True)\n",
    "\n",
    "counter = 0\n",
    "\n",
    "for img_file in os.listdir(images_dir):\n",
    "    if not img_file.lower().endswith((\".jpg\", \".jpeg\", \".png\")):\n",
    "        continue\n",
    "\n",
    "    img_name = os.path.splitext(img_file)[0]\n",
    "    img_path = os.path.join(images_dir, img_file)\n",
    "    label_path = os.path.join(labels_dir, img_name + \".txt\")\n",
    "\n",
    "    if not os.path.exists(label_path):\n",
    "        continue\n",
    "\n",
    "    try:\n",
    "        with Image.open(img_path) as img:\n",
    "            w, h = img.size\n",
    "\n",
    "            with open(label_path, \"r\") as f:\n",
    "                for line in f.readlines():\n",
    "                    parts = line.strip().split()\n",
    "                    if len(parts) != 5:\n",
    "                        continue\n",
    "\n",
    "                    cls, x_center, y_center, bbox_w, bbox_h = map(float, parts)\n",
    "                    cls = int(cls)\n",
    "\n",
    "                    # Convert normalized YOLO coords to pixel coords\n",
    "                    x_center *= w\n",
    "                    y_center *= h\n",
    "                    bbox_w *= w\n",
    "                    bbox_h *= h\n",
    "\n",
    "                    x1 = int(x_center - bbox_w / 2)\n",
    "                    y1 = int(y_center - bbox_h / 2)\n",
    "                    x2 = int(x_center + bbox_w / 2)\n",
    "                    y2 = int(y_center + bbox_h / 2)\n",
    "\n",
    "                    # Clip to valid range\n",
    "                    x1, y1 = max(0, x1), max(0, y1)\n",
    "                    x2, y2 = min(w, x2), min(h, y2)\n",
    "                    if x2 <= x1 or y2 <= y1:\n",
    "                        continue\n",
    "\n",
    "                    cropped = img.crop((x1, y1, x2, y2))\n",
    "                    label_name = class_names[cls]\n",
    "                    save_dir = os.path.join(output_dir, label_name)\n",
    "                    os.makedirs(save_dir, exist_ok=True)\n",
    "\n",
    "                    # Sanitize and shorten filename to avoid Windows path errors\n",
    "                    safe_name = re.sub(r\"[^a-zA-Z0-9_.-]\", \"_\", img_file)\n",
    "                    safe_name = safe_name[-100:]  # limit length\n",
    "                    save_path = os.path.join(save_dir, safe_name)\n",
    "\n",
    "                    cropped.save(save_path)\n",
    "                    counter += 1\n",
    "\n",
    "    except Exception as e:\n",
    "        print(f\"⚠️ Skipping {img_file}: {e}\")\n",
    "\n",
    "print(f\"✅ Step 1 complete! Saved {counter} cropped images to {output_dir}\\n\")\n"
   ]
  },
  {
   "cell_type": "code",
   "execution_count": 6,
   "metadata": {
    "colab": {},
    "colab_type": "code",
    "id": "0koUcJMJpEBD"
   },
   "outputs": [
    {
     "name": "stdout",
     "output_type": "stream",
     "text": [
      "Found 2148 images belonging to 3 classes.\n"
     ]
    }
   ],
   "source": [
    "train_datagen = ImageDataGenerator(rescale = 1./255,\n",
    "                                   shear_range = 0.2,\n",
    "                                   zoom_range = 0.2,\n",
    "                                   horizontal_flip = True)\n",
    "training_set = train_datagen.flow_from_directory('Downloads/ML Test/CNN/Mask/output/train',\n",
    "                                                 target_size = (64, 64),\n",
    "                                                 batch_size = 32,\n",
    "                                                 class_mode = 'categorical')"
   ]
  },
  {
   "cell_type": "markdown",
   "metadata": {
    "colab_type": "text",
    "id": "mrCMmGw9pHys"
   },
   "source": [
    "### Preprocessing the Test set"
   ]
  },
  {
   "cell_type": "code",
   "execution_count": 13,
   "metadata": {},
   "outputs": [
    {
     "name": "stdout",
     "output_type": "stream",
     "text": [
      "🔄 Step 1: Cropping YOLO-labeled images...\n",
      "✅ Step 1 complete! Saved 895 cropped images to C:\\Users\\DELL\\Downloads\\ML Test\\CNN\\Mask\\output\\test\n",
      "\n"
     ]
    }
   ],
   "source": [
    "import os\n",
    "import re\n",
    "import random\n",
    "from PIL import Image\n",
    "from shutil import copy2\n",
    "\n",
    "\n",
    "# --- Source paths ---\n",
    "images_dir = r\"Downloads/ML Test/CNN/Mask/test/images\"   \n",
    "labels_dir = r\"Downloads/ML Test/CNN/Mask/test/labels\"   \n",
    "\n",
    "# --- Output folders ---\n",
    "output_dir = os.path.abspath(r\"Downloads/ML Test/CNN/Mask/output/test\")\n",
    "\n",
    "# --- Class mapping ---\n",
    "class_names = [\"mask_correct\", \"mask_incorrect\", \"no_mask\"]\n",
    "\n",
    "\n",
    "# STEP 1: Crop YOLO-labeled regions\n",
    "\n",
    "print(\"🔄 Step 1: Cropping YOLO-labeled images...\")\n",
    "\n",
    "os.makedirs(output_dir, exist_ok=True)\n",
    "for cls_name in class_names:\n",
    "    os.makedirs(os.path.join(output_dir, cls_name), exist_ok=True)\n",
    "\n",
    "counter = 0\n",
    "\n",
    "for img_file in os.listdir(images_dir):\n",
    "    if not img_file.lower().endswith((\".jpg\", \".jpeg\", \".png\")):\n",
    "        continue\n",
    "\n",
    "    img_name = os.path.splitext(img_file)[0]\n",
    "    img_path = os.path.join(images_dir, img_file)\n",
    "    label_path = os.path.join(labels_dir, img_name + \".txt\")\n",
    "\n",
    "    if not os.path.exists(label_path):\n",
    "        continue\n",
    "\n",
    "    try:\n",
    "        with Image.open(img_path) as img:\n",
    "            w, h = img.size\n",
    "\n",
    "            with open(label_path, \"r\") as f:\n",
    "                for line in f.readlines():\n",
    "                    parts = line.strip().split()\n",
    "                    if len(parts) != 5:\n",
    "                        continue\n",
    "\n",
    "                    cls, x_center, y_center, bbox_w, bbox_h = map(float, parts)\n",
    "                    cls = int(cls)\n",
    "\n",
    "                    # Convert normalized YOLO coords to pixel coords\n",
    "                    x_center *= w\n",
    "                    y_center *= h\n",
    "                    bbox_w *= w\n",
    "                    bbox_h *= h\n",
    "\n",
    "                    x1 = int(x_center - bbox_w / 2)\n",
    "                    y1 = int(y_center - bbox_h / 2)\n",
    "                    x2 = int(x_center + bbox_w / 2)\n",
    "                    y2 = int(y_center + bbox_h / 2)\n",
    "\n",
    "                    # Clip to valid range\n",
    "                    x1, y1 = max(0, x1), max(0, y1)\n",
    "                    x2, y2 = min(w, x2), min(h, y2)\n",
    "                    if x2 <= x1 or y2 <= y1:\n",
    "                        continue\n",
    "\n",
    "                    cropped = img.crop((x1, y1, x2, y2))\n",
    "                    label_name = class_names[cls]\n",
    "                    save_dir = os.path.join(output_dir, label_name)\n",
    "                    os.makedirs(save_dir, exist_ok=True)\n",
    "\n",
    "                    # Sanitize and shorten filename to avoid Windows path errors\n",
    "                    safe_name = re.sub(r\"[^a-zA-Z0-9_.-]\", \"_\", img_file)\n",
    "                    safe_name = safe_name[-100:]  # limit length\n",
    "                    save_path = os.path.join(save_dir, safe_name)\n",
    "\n",
    "                    cropped.save(save_path)\n",
    "                    counter += 1\n",
    "\n",
    "    except Exception as e:\n",
    "        print(f\"⚠️ Skipping {img_file}: {e}\")\n",
    "\n",
    "print(f\"✅ Step 1 complete! Saved {counter} cropped images to {output_dir}\\n\")\n"
   ]
  },
  {
   "cell_type": "code",
   "execution_count": 8,
   "metadata": {
    "colab": {},
    "colab_type": "code",
    "id": "SH4WzfOhpKc3"
   },
   "outputs": [
    {
     "name": "stdout",
     "output_type": "stream",
     "text": [
      "Found 315 images belonging to 3 classes.\n"
     ]
    }
   ],
   "source": [
    "test_datagen = ImageDataGenerator(rescale = 1./255)\n",
    "test_set = test_datagen.flow_from_directory('Downloads/ML Test/CNN/Mask/output/test',\n",
    "                                            target_size = (64, 64),\n",
    "                                            batch_size = 32,\n",
    "                                            class_mode = 'categorical')"
   ]
  },
  {
   "cell_type": "markdown",
   "metadata": {
    "colab_type": "text",
    "id": "af8O4l90gk7B"
   },
   "source": [
    "## Part 2 - Building the CNN"
   ]
  },
  {
   "cell_type": "markdown",
   "metadata": {
    "colab_type": "text",
    "id": "ces1gXY2lmoX"
   },
   "source": [
    "### Initialising the CNN"
   ]
  },
  {
   "cell_type": "code",
   "execution_count": 12,
   "metadata": {
    "colab": {},
    "colab_type": "code",
    "id": "SAUt4UMPlhLS"
   },
   "outputs": [],
   "source": [
    "cnn = tf.keras.models.Sequential()"
   ]
  },
  {
   "cell_type": "markdown",
   "metadata": {
    "colab_type": "text",
    "id": "u5YJj_XMl5LF"
   },
   "source": [
    "### Step 1 - Convolution"
   ]
  },
  {
   "cell_type": "code",
   "execution_count": 14,
   "metadata": {
    "colab": {},
    "colab_type": "code",
    "id": "XPzPrMckl-hV"
   },
   "outputs": [
    {
     "name": "stderr",
     "output_type": "stream",
     "text": [
      "C:\\ProgramData\\anaconda3\\Lib\\site-packages\\keras\\src\\layers\\convolutional\\base_conv.py:113: UserWarning: Do not pass an `input_shape`/`input_dim` argument to a layer. When using Sequential models, prefer using an `Input(shape)` object as the first layer in the model instead.\n",
      "  super().__init__(activity_regularizer=activity_regularizer, **kwargs)\n"
     ]
    }
   ],
   "source": [
    "cnn.add(tf.keras.layers.Conv2D(filters=32, kernel_size=3, activation='relu', input_shape=[64, 64, 3]))"
   ]
  },
  {
   "cell_type": "markdown",
   "metadata": {
    "colab_type": "text",
    "id": "tf87FpvxmNOJ"
   },
   "source": [
    "### Step 2 - Pooling"
   ]
  },
  {
   "cell_type": "code",
   "execution_count": 16,
   "metadata": {
    "colab": {},
    "colab_type": "code",
    "id": "ncpqPl69mOac"
   },
   "outputs": [],
   "source": [
    "cnn.add(tf.keras.layers.MaxPool2D(pool_size=2, strides=1))"
   ]
  },
  {
   "cell_type": "markdown",
   "metadata": {
    "colab_type": "text",
    "id": "xaTOgD8rm4mU"
   },
   "source": [
    "### Adding a second convolutional layer"
   ]
  },
  {
   "cell_type": "code",
   "execution_count": 21,
   "metadata": {
    "colab": {},
    "colab_type": "code",
    "id": "i_-FZjn_m8gk"
   },
   "outputs": [],
   "source": [
    "cnn.add(tf.keras.layers.Conv2D(filters=32, kernel_size=3, activation='relu'))\n",
    "cnn.add(tf.keras.layers.MaxPool2D(pool_size=2, strides=2))"
   ]
  },
  {
   "cell_type": "markdown",
   "metadata": {
    "colab_type": "text",
    "id": "xaTOgD8rm4mU"
   },
   "source": [
    "### Adding a third convolutional layer"
   ]
  },
  {
   "cell_type": "code",
   "execution_count": 23,
   "metadata": {
    "colab": {},
    "colab_type": "code",
    "id": "i_-FZjn_m8gk"
   },
   "outputs": [],
   "source": [
    "cnn.add(tf.keras.layers.Conv2D(filters=32, kernel_size=3, activation='relu'))\n",
    "cnn.add(tf.keras.layers.MaxPool2D(pool_size=2, strides=2))"
   ]
  },
  {
   "cell_type": "markdown",
   "metadata": {
    "colab_type": "text",
    "id": "tmiEuvTunKfk"
   },
   "source": [
    "### Step 3 - Flattening"
   ]
  },
  {
   "cell_type": "code",
   "execution_count": 27,
   "metadata": {
    "colab": {},
    "colab_type": "code",
    "id": "6AZeOGCvnNZn"
   },
   "outputs": [],
   "source": [
    "cnn.add(tf.keras.layers.Flatten())"
   ]
  },
  {
   "cell_type": "markdown",
   "metadata": {
    "colab_type": "text",
    "id": "dAoSECOm203v"
   },
   "source": [
    "### Step 4 - Full Connection"
   ]
  },
  {
   "cell_type": "code",
   "execution_count": 30,
   "metadata": {
    "colab": {},
    "colab_type": "code",
    "id": "8GtmUlLd26Nq"
   },
   "outputs": [],
   "source": [
    "cnn.add(tf.keras.layers.Dense(units=200, activation='relu'))"
   ]
  },
  {
   "cell_type": "code",
   "execution_count": 32,
   "metadata": {
    "colab": {},
    "colab_type": "code",
    "id": "8GtmUlLd26Nq"
   },
   "outputs": [],
   "source": [
    "cnn.add(tf.keras.layers.Dense(units=100, activation='relu'))"
   ]
  },
  {
   "cell_type": "markdown",
   "metadata": {
    "colab_type": "text",
    "id": "yTldFvbX28Na"
   },
   "source": [
    "### Step 5 - Output Layer"
   ]
  },
  {
   "cell_type": "code",
   "execution_count": 35,
   "metadata": {
    "colab": {},
    "colab_type": "code",
    "id": "1p_Zj1Mc3Ko_"
   },
   "outputs": [],
   "source": [
    "cnn.add(tf.keras.layers.Dense(units=3, activation='softmax'))"
   ]
  },
  {
   "cell_type": "markdown",
   "metadata": {
    "colab_type": "text",
    "id": "D6XkI90snSDl"
   },
   "source": [
    "## Part 3 - Training the CNN"
   ]
  },
  {
   "cell_type": "markdown",
   "metadata": {
    "colab_type": "text",
    "id": "vfrFQACEnc6i"
   },
   "source": [
    "### Compiling the CNN"
   ]
  },
  {
   "cell_type": "code",
   "execution_count": 39,
   "metadata": {
    "colab": {},
    "colab_type": "code",
    "id": "NALksrNQpUlJ"
   },
   "outputs": [],
   "source": [
    "cnn.compile(optimizer = 'adam', loss = 'categorical_crossentropy', metrics = ['accuracy'])"
   ]
  },
  {
   "cell_type": "markdown",
   "metadata": {},
   "source": [
    "### Computing class weights to combat class imbalance"
   ]
  },
  {
   "cell_type": "code",
   "execution_count": 44,
   "metadata": {},
   "outputs": [
    {
     "name": "stdout",
     "output_type": "stream",
     "text": [
      "Image count per class: {'mask_correct': 1523, 'mask_incorrect': 235, 'no_mask': 390}\n"
     ]
    }
   ],
   "source": [
    "import os\n",
    "from collections import Counter\n",
    "\n",
    "train_dir = 'Downloads/ML Test/CNN/Mask/output/train'  \n",
    "\n",
    "# Count images per class\n",
    "class_counts = {}\n",
    "for cls in os.listdir(train_dir):\n",
    "    cls_path = os.path.join(train_dir, cls)\n",
    "    if os.path.isdir(cls_path):\n",
    "        class_counts[cls] = len(os.listdir(cls_path))\n",
    "\n",
    "print(\"Image count per class:\", class_counts)\n"
   ]
  },
  {
   "cell_type": "code",
   "execution_count": 46,
   "metadata": {},
   "outputs": [
    {
     "name": "stdout",
     "output_type": "stream",
     "text": [
      "Class weights: {0: 0.4701247537754432, 1: 3.046808510638298, 2: 1.8358974358974358}\n"
     ]
    }
   ],
   "source": [
    "from sklearn.utils.class_weight import compute_class_weight\n",
    "\n",
    "classes = list(class_counts.keys())\n",
    "\n",
    "# Array of labels (each image corresponds to its class index)\n",
    "class_indices = {cls: i for i, cls in enumerate(classes)}\n",
    "\n",
    "# Looping the class index according to the number of images in the class\n",
    "labels_array = np.array([\n",
    "    class_indices[cls]\n",
    "    for cls, count in class_counts.items()\n",
    "    for _ in range(count)\n",
    "])\n",
    "\n",
    "# Compute weights\n",
    "weights = compute_class_weight(class_weight='balanced',\n",
    "                               classes=np.unique(labels_array),\n",
    "                               y=labels_array)\n",
    "\n",
    "class_weight_dict = dict(zip(range(len(classes)), weights))\n",
    "print(\"Class weights:\", class_weight_dict)\n"
   ]
  },
  {
   "cell_type": "markdown",
   "metadata": {
    "colab_type": "text",
    "id": "ehS-v3MIpX2h"
   },
   "source": [
    "### Training the CNN on the Training set and evaluating it on the Test set"
   ]
  },
  {
   "cell_type": "code",
   "execution_count": 49,
   "metadata": {
    "colab": {},
    "colab_type": "code",
    "id": "XUj1W4PJptta"
   },
   "outputs": [
    {
     "name": "stderr",
     "output_type": "stream",
     "text": [
      "C:\\ProgramData\\anaconda3\\Lib\\site-packages\\keras\\src\\trainers\\data_adapters\\py_dataset_adapter.py:121: UserWarning: Your `PyDataset` class should call `super().__init__(**kwargs)` in its constructor. `**kwargs` can include `workers`, `use_multiprocessing`, `max_queue_size`. Do not pass these arguments to `fit()`, as they will be ignored.\n",
      "  self._warn_if_super_not_called()\n"
     ]
    },
    {
     "name": "stdout",
     "output_type": "stream",
     "text": [
      "Epoch 1/50\n",
      "\u001b[1m68/68\u001b[0m \u001b[32m━━━━━━━━━━━━━━━━━━━━\u001b[0m\u001b[37m\u001b[0m \u001b[1m58s\u001b[0m 758ms/step - accuracy: 0.6359 - loss: 0.8728 - val_accuracy: 0.7206 - val_loss: 0.7214 - learning_rate: 0.0010\n",
      "Epoch 2/50\n",
      "\u001b[1m68/68\u001b[0m \u001b[32m━━━━━━━━━━━━━━━━━━━━\u001b[0m\u001b[37m\u001b[0m \u001b[1m41s\u001b[0m 594ms/step - accuracy: 0.7379 - loss: 0.6705 - val_accuracy: 0.7937 - val_loss: 0.5818 - learning_rate: 0.0010\n",
      "Epoch 3/50\n",
      "\u001b[1m68/68\u001b[0m \u001b[32m━━━━━━━━━━━━━━━━━━━━\u001b[0m\u001b[37m\u001b[0m \u001b[1m35s\u001b[0m 509ms/step - accuracy: 0.7542 - loss: 0.6209 - val_accuracy: 0.7683 - val_loss: 0.6118 - learning_rate: 0.0010\n",
      "Epoch 4/50\n",
      "\u001b[1m68/68\u001b[0m \u001b[32m━━━━━━━━━━━━━━━━━━━━\u001b[0m\u001b[37m\u001b[0m \u001b[1m36s\u001b[0m 525ms/step - accuracy: 0.7807 - loss: 0.6025 - val_accuracy: 0.8063 - val_loss: 0.5606 - learning_rate: 0.0010\n",
      "Epoch 5/50\n",
      "\u001b[1m68/68\u001b[0m \u001b[32m━━━━━━━━━━━━━━━━━━━━\u001b[0m\u001b[37m\u001b[0m \u001b[1m32s\u001b[0m 460ms/step - accuracy: 0.7896 - loss: 0.5530 - val_accuracy: 0.7460 - val_loss: 0.6220 - learning_rate: 0.0010\n",
      "Epoch 6/50\n",
      "\u001b[1m68/68\u001b[0m \u001b[32m━━━━━━━━━━━━━━━━━━━━\u001b[0m\u001b[37m\u001b[0m \u001b[1m35s\u001b[0m 516ms/step - accuracy: 0.7761 - loss: 0.5759 - val_accuracy: 0.8000 - val_loss: 0.6016 - learning_rate: 0.0010\n",
      "Epoch 7/50\n",
      "\u001b[1m68/68\u001b[0m \u001b[32m━━━━━━━━━━━━━━━━━━━━\u001b[0m\u001b[37m\u001b[0m \u001b[1m33s\u001b[0m 482ms/step - accuracy: 0.7928 - loss: 0.5611 - val_accuracy: 0.8222 - val_loss: 0.4848 - learning_rate: 0.0010\n",
      "Epoch 8/50\n",
      "\u001b[1m68/68\u001b[0m \u001b[32m━━━━━━━━━━━━━━━━━━━━\u001b[0m\u001b[37m\u001b[0m \u001b[1m35s\u001b[0m 513ms/step - accuracy: 0.8063 - loss: 0.4996 - val_accuracy: 0.8190 - val_loss: 0.5186 - learning_rate: 0.0010\n",
      "Epoch 9/50\n",
      "\u001b[1m68/68\u001b[0m \u001b[32m━━━━━━━━━━━━━━━━━━━━\u001b[0m\u001b[37m\u001b[0m \u001b[1m45s\u001b[0m 661ms/step - accuracy: 0.8003 - loss: 0.5070 - val_accuracy: 0.8032 - val_loss: 0.5551 - learning_rate: 0.0010\n",
      "Epoch 10/50\n",
      "\u001b[1m68/68\u001b[0m \u001b[32m━━━━━━━━━━━━━━━━━━━━\u001b[0m\u001b[37m\u001b[0m \u001b[1m37s\u001b[0m 537ms/step - accuracy: 0.7989 - loss: 0.4957 - val_accuracy: 0.8127 - val_loss: 0.5820 - learning_rate: 0.0010\n",
      "Epoch 11/50\n",
      "\u001b[1m68/68\u001b[0m \u001b[32m━━━━━━━━━━━━━━━━━━━━\u001b[0m\u001b[37m\u001b[0m \u001b[1m38s\u001b[0m 493ms/step - accuracy: 0.8240 - loss: 0.4613 - val_accuracy: 0.8254 - val_loss: 0.5249 - learning_rate: 0.0010\n",
      "Epoch 12/50\n",
      "\u001b[1m68/68\u001b[0m \u001b[32m━━━━━━━━━━━━━━━━━━━━\u001b[0m\u001b[37m\u001b[0m \u001b[1m40s\u001b[0m 589ms/step - accuracy: 0.8180 - loss: 0.4279 - val_accuracy: 0.8413 - val_loss: 0.4466 - learning_rate: 0.0010\n",
      "Epoch 13/50\n",
      "\u001b[1m68/68\u001b[0m \u001b[32m━━━━━━━━━━━━━━━━━━━━\u001b[0m\u001b[37m\u001b[0m \u001b[1m42s\u001b[0m 620ms/step - accuracy: 0.8236 - loss: 0.4308 - val_accuracy: 0.6381 - val_loss: 0.8835 - learning_rate: 0.0010\n",
      "Epoch 14/50\n",
      "\u001b[1m68/68\u001b[0m \u001b[32m━━━━━━━━━━━━━━━━━━━━\u001b[0m\u001b[37m\u001b[0m \u001b[1m49s\u001b[0m 708ms/step - accuracy: 0.8305 - loss: 0.4297 - val_accuracy: 0.8063 - val_loss: 0.5395 - learning_rate: 0.0010\n",
      "Epoch 15/50\n",
      "\u001b[1m68/68\u001b[0m \u001b[32m━━━━━━━━━━━━━━━━━━━━\u001b[0m\u001b[37m\u001b[0m \u001b[1m46s\u001b[0m 659ms/step - accuracy: 0.8170 - loss: 0.4579 - val_accuracy: 0.8476 - val_loss: 0.4770 - learning_rate: 0.0010\n",
      "Epoch 16/50\n",
      "\u001b[1m68/68\u001b[0m \u001b[32m━━━━━━━━━━━━━━━━━━━━\u001b[0m\u001b[37m\u001b[0m \u001b[1m39s\u001b[0m 558ms/step - accuracy: 0.8520 - loss: 0.3839 - val_accuracy: 0.8381 - val_loss: 0.4751 - learning_rate: 0.0010\n",
      "Epoch 17/50\n",
      "\u001b[1m68/68\u001b[0m \u001b[32m━━━━━━━━━━━━━━━━━━━━\u001b[0m\u001b[37m\u001b[0m \u001b[1m49s\u001b[0m 715ms/step - accuracy: 0.8538 - loss: 0.3736 - val_accuracy: 0.8540 - val_loss: 0.4474 - learning_rate: 0.0010\n",
      "Epoch 18/50\n",
      "\u001b[1m68/68\u001b[0m \u001b[32m━━━━━━━━━━━━━━━━━━━━\u001b[0m\u001b[37m\u001b[0m \u001b[1m39s\u001b[0m 562ms/step - accuracy: 0.8566 - loss: 0.3581 - val_accuracy: 0.7746 - val_loss: 0.7344 - learning_rate: 0.0010\n",
      "Epoch 19/50\n",
      "\u001b[1m68/68\u001b[0m \u001b[32m━━━━━━━━━━━━━━━━━━━━\u001b[0m\u001b[37m\u001b[0m \u001b[1m40s\u001b[0m 555ms/step - accuracy: 0.8692 - loss: 0.3703 - val_accuracy: 0.8635 - val_loss: 0.4568 - learning_rate: 0.0010\n",
      "Epoch 20/50\n",
      "\u001b[1m68/68\u001b[0m \u001b[32m━━━━━━━━━━━━━━━━━━━━\u001b[0m\u001b[37m\u001b[0m \u001b[1m35s\u001b[0m 512ms/step - accuracy: 0.8766 - loss: 0.3205 - val_accuracy: 0.8857 - val_loss: 0.3720 - learning_rate: 0.0010\n",
      "Epoch 21/50\n",
      "\u001b[1m68/68\u001b[0m \u001b[32m━━━━━━━━━━━━━━━━━━━━\u001b[0m\u001b[37m\u001b[0m \u001b[1m35s\u001b[0m 514ms/step - accuracy: 0.8818 - loss: 0.2969 - val_accuracy: 0.8984 - val_loss: 0.3481 - learning_rate: 0.0010\n",
      "Epoch 22/50\n",
      "\u001b[1m68/68\u001b[0m \u001b[32m━━━━━━━━━━━━━━━━━━━━\u001b[0m\u001b[37m\u001b[0m \u001b[1m37s\u001b[0m 549ms/step - accuracy: 0.8878 - loss: 0.2765 - val_accuracy: 0.8889 - val_loss: 0.4164 - learning_rate: 0.0010\n",
      "Epoch 23/50\n",
      "\u001b[1m68/68\u001b[0m \u001b[32m━━━━━━━━━━━━━━━━━━━━\u001b[0m\u001b[37m\u001b[0m \u001b[1m38s\u001b[0m 561ms/step - accuracy: 0.8887 - loss: 0.3050 - val_accuracy: 0.8349 - val_loss: 0.4894 - learning_rate: 0.0010\n",
      "Epoch 24/50\n",
      "\u001b[1m68/68\u001b[0m \u001b[32m━━━━━━━━━━━━━━━━━━━━\u001b[0m\u001b[37m\u001b[0m \u001b[1m33s\u001b[0m 486ms/step - accuracy: 0.8911 - loss: 0.2755 - val_accuracy: 0.8794 - val_loss: 0.4282 - learning_rate: 0.0010\n",
      "Epoch 25/50\n",
      "\u001b[1m68/68\u001b[0m \u001b[32m━━━━━━━━━━━━━━━━━━━━\u001b[0m\u001b[37m\u001b[0m \u001b[1m42s\u001b[0m 614ms/step - accuracy: 0.8757 - loss: 0.3143 - val_accuracy: 0.8349 - val_loss: 0.4573 - learning_rate: 0.0010\n",
      "Epoch 26/50\n",
      "\u001b[1m68/68\u001b[0m \u001b[32m━━━━━━━━━━━━━━━━━━━━\u001b[0m\u001b[37m\u001b[0m \u001b[1m40s\u001b[0m 588ms/step - accuracy: 0.8864 - loss: 0.2886 - val_accuracy: 0.8413 - val_loss: 0.4586 - learning_rate: 0.0010\n",
      "Epoch 27/50\n",
      "\u001b[1m68/68\u001b[0m \u001b[32m━━━━━━━━━━━━━━━━━━━━\u001b[0m\u001b[37m\u001b[0m \u001b[1m42s\u001b[0m 612ms/step - accuracy: 0.9129 - loss: 0.2284 - val_accuracy: 0.8603 - val_loss: 0.4707 - learning_rate: 0.0010\n",
      "Epoch 28/50\n",
      "\u001b[1m68/68\u001b[0m \u001b[32m━━━━━━━━━━━━━━━━━━━━\u001b[0m\u001b[37m\u001b[0m \u001b[1m37s\u001b[0m 543ms/step - accuracy: 0.9134 - loss: 0.2320 - val_accuracy: 0.8667 - val_loss: 0.5089 - learning_rate: 0.0010\n",
      "Epoch 29/50\n",
      "\u001b[1m68/68\u001b[0m \u001b[32m━━━━━━━━━━━━━━━━━━━━\u001b[0m\u001b[37m\u001b[0m \u001b[1m30s\u001b[0m 439ms/step - accuracy: 0.9297 - loss: 0.1863 - val_accuracy: 0.8698 - val_loss: 0.4675 - learning_rate: 0.0010\n",
      "Epoch 30/50\n",
      "\u001b[1m68/68\u001b[0m \u001b[32m━━━━━━━━━━━━━━━━━━━━\u001b[0m\u001b[37m\u001b[0m \u001b[1m44s\u001b[0m 650ms/step - accuracy: 0.9264 - loss: 0.1737 - val_accuracy: 0.9048 - val_loss: 0.4149 - learning_rate: 0.0010\n",
      "Epoch 31/50\n",
      "\u001b[1m68/68\u001b[0m \u001b[32m━━━━━━━━━━━━━━━━━━━━\u001b[0m\u001b[37m\u001b[0m \u001b[1m42s\u001b[0m 606ms/step - accuracy: 0.9334 - loss: 0.1857 - val_accuracy: 0.8889 - val_loss: 0.4737 - learning_rate: 0.0010\n",
      "Epoch 32/50\n",
      "\u001b[1m68/68\u001b[0m \u001b[32m━━━━━━━━━━━━━━━━━━━━\u001b[0m\u001b[37m\u001b[0m \u001b[1m42s\u001b[0m 617ms/step - accuracy: 0.9441 - loss: 0.1421 - val_accuracy: 0.8921 - val_loss: 0.4325 - learning_rate: 0.0010\n",
      "Epoch 33/50\n",
      "\u001b[1m68/68\u001b[0m \u001b[32m━━━━━━━━━━━━━━━━━━━━\u001b[0m\u001b[37m\u001b[0m \u001b[1m43s\u001b[0m 643ms/step - accuracy: 0.9390 - loss: 0.1650 - val_accuracy: 0.8921 - val_loss: 0.4969 - learning_rate: 0.0010\n",
      "Epoch 34/50\n",
      "\u001b[1m68/68\u001b[0m \u001b[32m━━━━━━━━━━━━━━━━━━━━\u001b[0m\u001b[37m\u001b[0m \u001b[1m38s\u001b[0m 563ms/step - accuracy: 0.9302 - loss: 0.1929 - val_accuracy: 0.8159 - val_loss: 0.5369 - learning_rate: 0.0010\n",
      "Epoch 35/50\n",
      "\u001b[1m68/68\u001b[0m \u001b[32m━━━━━━━━━━━━━━━━━━━━\u001b[0m\u001b[37m\u001b[0m \u001b[1m37s\u001b[0m 498ms/step - accuracy: 0.9381 - loss: 0.1462 - val_accuracy: 0.8889 - val_loss: 0.5386 - learning_rate: 0.0010\n",
      "Epoch 36/50\n",
      "\u001b[1m68/68\u001b[0m \u001b[32m━━━━━━━━━━━━━━━━━━━━\u001b[0m\u001b[37m\u001b[0m \u001b[1m45s\u001b[0m 657ms/step - accuracy: 0.9395 - loss: 0.1458 - val_accuracy: 0.8762 - val_loss: 0.5074 - learning_rate: 0.0010\n",
      "Epoch 37/50\n",
      "\u001b[1m68/68\u001b[0m \u001b[32m━━━━━━━━━━━━━━━━━━━━\u001b[0m\u001b[37m\u001b[0m \u001b[1m39s\u001b[0m 567ms/step - accuracy: 0.9404 - loss: 0.1441 - val_accuracy: 0.8889 - val_loss: 0.4724 - learning_rate: 0.0010\n",
      "Epoch 38/50\n",
      "\u001b[1m68/68\u001b[0m \u001b[32m━━━━━━━━━━━━━━━━━━━━\u001b[0m\u001b[37m\u001b[0m \u001b[1m36s\u001b[0m 532ms/step - accuracy: 0.9441 - loss: 0.1199 - val_accuracy: 0.8889 - val_loss: 0.5541 - learning_rate: 0.0010\n",
      "Epoch 39/50\n",
      "\u001b[1m68/68\u001b[0m \u001b[32m━━━━━━━━━━━━━━━━━━━━\u001b[0m\u001b[37m\u001b[0m \u001b[1m43s\u001b[0m 635ms/step - accuracy: 0.9637 - loss: 0.0900 - val_accuracy: 0.8889 - val_loss: 0.5203 - learning_rate: 0.0010\n",
      "Epoch 40/50\n",
      "\u001b[1m68/68\u001b[0m \u001b[32m━━━━━━━━━━━━━━━━━━━━\u001b[0m\u001b[37m\u001b[0m \u001b[1m48s\u001b[0m 709ms/step - accuracy: 0.9609 - loss: 0.0867 - val_accuracy: 0.8857 - val_loss: 0.5796 - learning_rate: 0.0010\n",
      "Epoch 41/50\n",
      "\u001b[1m68/68\u001b[0m \u001b[32m━━━━━━━━━━━━━━━━━━━━\u001b[0m\u001b[37m\u001b[0m \u001b[1m81s\u001b[0m 697ms/step - accuracy: 0.9651 - loss: 0.0819 - val_accuracy: 0.9016 - val_loss: 0.5525 - learning_rate: 0.0010\n",
      "Epoch 42/50\n",
      "\u001b[1m68/68\u001b[0m \u001b[32m━━━━━━━━━━━━━━━━━━━━\u001b[0m\u001b[37m\u001b[0m \u001b[1m33s\u001b[0m 481ms/step - accuracy: 0.9604 - loss: 0.0915 - val_accuracy: 0.8952 - val_loss: 0.4285 - learning_rate: 0.0010\n",
      "Epoch 43/50\n",
      "\u001b[1m68/68\u001b[0m \u001b[32m━━━━━━━━━━━━━━━━━━━━\u001b[0m\u001b[37m\u001b[0m \u001b[1m30s\u001b[0m 438ms/step - accuracy: 0.9530 - loss: 0.1058 - val_accuracy: 0.8921 - val_loss: 0.5109 - learning_rate: 0.0010\n",
      "Epoch 44/50\n",
      "\u001b[1m68/68\u001b[0m \u001b[32m━━━━━━━━━━━━━━━━━━━━\u001b[0m\u001b[37m\u001b[0m \u001b[1m31s\u001b[0m 461ms/step - accuracy: 0.9395 - loss: 0.1263 - val_accuracy: 0.8476 - val_loss: 0.6990 - learning_rate: 0.0010\n",
      "Epoch 45/50\n",
      "\u001b[1m68/68\u001b[0m \u001b[32m━━━━━━━━━━━━━━━━━━━━\u001b[0m\u001b[37m\u001b[0m \u001b[1m31s\u001b[0m 450ms/step - accuracy: 0.9483 - loss: 0.1294 - val_accuracy: 0.8889 - val_loss: 0.5250 - learning_rate: 0.0010\n",
      "Epoch 46/50\n",
      "\u001b[1m68/68\u001b[0m \u001b[32m━━━━━━━━━━━━━━━━━━━━\u001b[0m\u001b[37m\u001b[0m \u001b[1m32s\u001b[0m 469ms/step - accuracy: 0.9520 - loss: 0.1010 - val_accuracy: 0.8857 - val_loss: 0.5455 - learning_rate: 0.0010\n",
      "Epoch 47/50\n",
      "\u001b[1m68/68\u001b[0m \u001b[32m━━━━━━━━━━━━━━━━━━━━\u001b[0m\u001b[37m\u001b[0m \u001b[1m33s\u001b[0m 485ms/step - accuracy: 0.9567 - loss: 0.1093 - val_accuracy: 0.8825 - val_loss: 0.5685 - learning_rate: 0.0010\n",
      "Epoch 48/50\n",
      "\u001b[1m68/68\u001b[0m \u001b[32m━━━━━━━━━━━━━━━━━━━━\u001b[0m\u001b[37m\u001b[0m \u001b[1m31s\u001b[0m 455ms/step - accuracy: 0.9423 - loss: 0.1318 - val_accuracy: 0.8857 - val_loss: 0.5307 - learning_rate: 0.0010\n",
      "Epoch 49/50\n",
      "\u001b[1m68/68\u001b[0m \u001b[32m━━━━━━━━━━━━━━━━━━━━\u001b[0m\u001b[37m\u001b[0m \u001b[1m31s\u001b[0m 452ms/step - accuracy: 0.9581 - loss: 0.0879 - val_accuracy: 0.8952 - val_loss: 0.6567 - learning_rate: 0.0010\n",
      "Epoch 50/50\n",
      "\u001b[1m68/68\u001b[0m \u001b[32m━━━━━━━━━━━━━━━━━━━━\u001b[0m\u001b[37m\u001b[0m \u001b[1m31s\u001b[0m 450ms/step - accuracy: 0.9553 - loss: 0.0967 - val_accuracy: 0.8635 - val_loss: 0.4178 - learning_rate: 0.0010\n"
     ]
    },
    {
     "data": {
      "text/plain": [
       "<keras.src.callbacks.history.History at 0x1aa17d1c500>"
      ]
     },
     "execution_count": 49,
     "metadata": {},
     "output_type": "execute_result"
    }
   ],
   "source": [
    "from keras.callbacks import EarlyStopping, ReduceLROnPlateau\n",
    "\n",
    "# Define EarlyStopping\n",
    "callbacks = [EarlyStopping(monitor='val_accuracy', patience=40, mode = 'max', restore_best_weights=True),\n",
    "                  ReduceLROnPlateau(monitor='val_loss', factor=0.5, patience=30, min_lr=1e-4)\n",
    "                 ]\n",
    "\n",
    "cnn.fit(x = training_set, validation_data = test_set, epochs = 50, callbacks=[callbacks], class_weight=class_weight_dict)"
   ]
  },
  {
   "cell_type": "code",
   "execution_count": 52,
   "metadata": {},
   "outputs": [
    {
     "data": {
      "text/html": [
       "<pre style=\"white-space:pre;overflow-x:auto;line-height:normal;font-family:Menlo,'DejaVu Sans Mono',consolas,'Courier New',monospace\"><span style=\"font-weight: bold\">Model: \"sequential\"</span>\n",
       "</pre>\n"
      ],
      "text/plain": [
       "\u001b[1mModel: \"sequential\"\u001b[0m\n"
      ]
     },
     "metadata": {},
     "output_type": "display_data"
    },
    {
     "data": {
      "text/html": [
       "<pre style=\"white-space:pre;overflow-x:auto;line-height:normal;font-family:Menlo,'DejaVu Sans Mono',consolas,'Courier New',monospace\">┏━━━━━━━━━━━━━━━━━━━━━━━━━━━━━━━━━┳━━━━━━━━━━━━━━━━━━━━━━━━┳━━━━━━━━━━━━━━━┓\n",
       "┃<span style=\"font-weight: bold\"> Layer (type)                    </span>┃<span style=\"font-weight: bold\"> Output Shape           </span>┃<span style=\"font-weight: bold\">       Param # </span>┃\n",
       "┡━━━━━━━━━━━━━━━━━━━━━━━━━━━━━━━━━╇━━━━━━━━━━━━━━━━━━━━━━━━╇━━━━━━━━━━━━━━━┩\n",
       "│ conv2d (<span style=\"color: #0087ff; text-decoration-color: #0087ff\">Conv2D</span>)                 │ (<span style=\"color: #00d7ff; text-decoration-color: #00d7ff\">None</span>, <span style=\"color: #00af00; text-decoration-color: #00af00\">62</span>, <span style=\"color: #00af00; text-decoration-color: #00af00\">62</span>, <span style=\"color: #00af00; text-decoration-color: #00af00\">32</span>)     │           <span style=\"color: #00af00; text-decoration-color: #00af00\">896</span> │\n",
       "├─────────────────────────────────┼────────────────────────┼───────────────┤\n",
       "│ max_pooling2d (<span style=\"color: #0087ff; text-decoration-color: #0087ff\">MaxPooling2D</span>)    │ (<span style=\"color: #00d7ff; text-decoration-color: #00d7ff\">None</span>, <span style=\"color: #00af00; text-decoration-color: #00af00\">61</span>, <span style=\"color: #00af00; text-decoration-color: #00af00\">61</span>, <span style=\"color: #00af00; text-decoration-color: #00af00\">32</span>)     │             <span style=\"color: #00af00; text-decoration-color: #00af00\">0</span> │\n",
       "├─────────────────────────────────┼────────────────────────┼───────────────┤\n",
       "│ conv2d_1 (<span style=\"color: #0087ff; text-decoration-color: #0087ff\">Conv2D</span>)               │ (<span style=\"color: #00d7ff; text-decoration-color: #00d7ff\">None</span>, <span style=\"color: #00af00; text-decoration-color: #00af00\">59</span>, <span style=\"color: #00af00; text-decoration-color: #00af00\">59</span>, <span style=\"color: #00af00; text-decoration-color: #00af00\">32</span>)     │         <span style=\"color: #00af00; text-decoration-color: #00af00\">9,248</span> │\n",
       "├─────────────────────────────────┼────────────────────────┼───────────────┤\n",
       "│ max_pooling2d_1 (<span style=\"color: #0087ff; text-decoration-color: #0087ff\">MaxPooling2D</span>)  │ (<span style=\"color: #00d7ff; text-decoration-color: #00d7ff\">None</span>, <span style=\"color: #00af00; text-decoration-color: #00af00\">29</span>, <span style=\"color: #00af00; text-decoration-color: #00af00\">29</span>, <span style=\"color: #00af00; text-decoration-color: #00af00\">32</span>)     │             <span style=\"color: #00af00; text-decoration-color: #00af00\">0</span> │\n",
       "├─────────────────────────────────┼────────────────────────┼───────────────┤\n",
       "│ conv2d_2 (<span style=\"color: #0087ff; text-decoration-color: #0087ff\">Conv2D</span>)               │ (<span style=\"color: #00d7ff; text-decoration-color: #00d7ff\">None</span>, <span style=\"color: #00af00; text-decoration-color: #00af00\">27</span>, <span style=\"color: #00af00; text-decoration-color: #00af00\">27</span>, <span style=\"color: #00af00; text-decoration-color: #00af00\">32</span>)     │         <span style=\"color: #00af00; text-decoration-color: #00af00\">9,248</span> │\n",
       "├─────────────────────────────────┼────────────────────────┼───────────────┤\n",
       "│ max_pooling2d_2 (<span style=\"color: #0087ff; text-decoration-color: #0087ff\">MaxPooling2D</span>)  │ (<span style=\"color: #00d7ff; text-decoration-color: #00d7ff\">None</span>, <span style=\"color: #00af00; text-decoration-color: #00af00\">13</span>, <span style=\"color: #00af00; text-decoration-color: #00af00\">13</span>, <span style=\"color: #00af00; text-decoration-color: #00af00\">32</span>)     │             <span style=\"color: #00af00; text-decoration-color: #00af00\">0</span> │\n",
       "├─────────────────────────────────┼────────────────────────┼───────────────┤\n",
       "│ flatten (<span style=\"color: #0087ff; text-decoration-color: #0087ff\">Flatten</span>)               │ (<span style=\"color: #00d7ff; text-decoration-color: #00d7ff\">None</span>, <span style=\"color: #00af00; text-decoration-color: #00af00\">5408</span>)           │             <span style=\"color: #00af00; text-decoration-color: #00af00\">0</span> │\n",
       "├─────────────────────────────────┼────────────────────────┼───────────────┤\n",
       "│ dense (<span style=\"color: #0087ff; text-decoration-color: #0087ff\">Dense</span>)                   │ (<span style=\"color: #00d7ff; text-decoration-color: #00d7ff\">None</span>, <span style=\"color: #00af00; text-decoration-color: #00af00\">200</span>)            │     <span style=\"color: #00af00; text-decoration-color: #00af00\">1,081,800</span> │\n",
       "├─────────────────────────────────┼────────────────────────┼───────────────┤\n",
       "│ dense_1 (<span style=\"color: #0087ff; text-decoration-color: #0087ff\">Dense</span>)                 │ (<span style=\"color: #00d7ff; text-decoration-color: #00d7ff\">None</span>, <span style=\"color: #00af00; text-decoration-color: #00af00\">100</span>)            │        <span style=\"color: #00af00; text-decoration-color: #00af00\">20,100</span> │\n",
       "├─────────────────────────────────┼────────────────────────┼───────────────┤\n",
       "│ dense_2 (<span style=\"color: #0087ff; text-decoration-color: #0087ff\">Dense</span>)                 │ (<span style=\"color: #00d7ff; text-decoration-color: #00d7ff\">None</span>, <span style=\"color: #00af00; text-decoration-color: #00af00\">3</span>)              │           <span style=\"color: #00af00; text-decoration-color: #00af00\">303</span> │\n",
       "└─────────────────────────────────┴────────────────────────┴───────────────┘\n",
       "</pre>\n"
      ],
      "text/plain": [
       "┏━━━━━━━━━━━━━━━━━━━━━━━━━━━━━━━━━┳━━━━━━━━━━━━━━━━━━━━━━━━┳━━━━━━━━━━━━━━━┓\n",
       "┃\u001b[1m \u001b[0m\u001b[1mLayer (type)                   \u001b[0m\u001b[1m \u001b[0m┃\u001b[1m \u001b[0m\u001b[1mOutput Shape          \u001b[0m\u001b[1m \u001b[0m┃\u001b[1m \u001b[0m\u001b[1m      Param #\u001b[0m\u001b[1m \u001b[0m┃\n",
       "┡━━━━━━━━━━━━━━━━━━━━━━━━━━━━━━━━━╇━━━━━━━━━━━━━━━━━━━━━━━━╇━━━━━━━━━━━━━━━┩\n",
       "│ conv2d (\u001b[38;5;33mConv2D\u001b[0m)                 │ (\u001b[38;5;45mNone\u001b[0m, \u001b[38;5;34m62\u001b[0m, \u001b[38;5;34m62\u001b[0m, \u001b[38;5;34m32\u001b[0m)     │           \u001b[38;5;34m896\u001b[0m │\n",
       "├─────────────────────────────────┼────────────────────────┼───────────────┤\n",
       "│ max_pooling2d (\u001b[38;5;33mMaxPooling2D\u001b[0m)    │ (\u001b[38;5;45mNone\u001b[0m, \u001b[38;5;34m61\u001b[0m, \u001b[38;5;34m61\u001b[0m, \u001b[38;5;34m32\u001b[0m)     │             \u001b[38;5;34m0\u001b[0m │\n",
       "├─────────────────────────────────┼────────────────────────┼───────────────┤\n",
       "│ conv2d_1 (\u001b[38;5;33mConv2D\u001b[0m)               │ (\u001b[38;5;45mNone\u001b[0m, \u001b[38;5;34m59\u001b[0m, \u001b[38;5;34m59\u001b[0m, \u001b[38;5;34m32\u001b[0m)     │         \u001b[38;5;34m9,248\u001b[0m │\n",
       "├─────────────────────────────────┼────────────────────────┼───────────────┤\n",
       "│ max_pooling2d_1 (\u001b[38;5;33mMaxPooling2D\u001b[0m)  │ (\u001b[38;5;45mNone\u001b[0m, \u001b[38;5;34m29\u001b[0m, \u001b[38;5;34m29\u001b[0m, \u001b[38;5;34m32\u001b[0m)     │             \u001b[38;5;34m0\u001b[0m │\n",
       "├─────────────────────────────────┼────────────────────────┼───────────────┤\n",
       "│ conv2d_2 (\u001b[38;5;33mConv2D\u001b[0m)               │ (\u001b[38;5;45mNone\u001b[0m, \u001b[38;5;34m27\u001b[0m, \u001b[38;5;34m27\u001b[0m, \u001b[38;5;34m32\u001b[0m)     │         \u001b[38;5;34m9,248\u001b[0m │\n",
       "├─────────────────────────────────┼────────────────────────┼───────────────┤\n",
       "│ max_pooling2d_2 (\u001b[38;5;33mMaxPooling2D\u001b[0m)  │ (\u001b[38;5;45mNone\u001b[0m, \u001b[38;5;34m13\u001b[0m, \u001b[38;5;34m13\u001b[0m, \u001b[38;5;34m32\u001b[0m)     │             \u001b[38;5;34m0\u001b[0m │\n",
       "├─────────────────────────────────┼────────────────────────┼───────────────┤\n",
       "│ flatten (\u001b[38;5;33mFlatten\u001b[0m)               │ (\u001b[38;5;45mNone\u001b[0m, \u001b[38;5;34m5408\u001b[0m)           │             \u001b[38;5;34m0\u001b[0m │\n",
       "├─────────────────────────────────┼────────────────────────┼───────────────┤\n",
       "│ dense (\u001b[38;5;33mDense\u001b[0m)                   │ (\u001b[38;5;45mNone\u001b[0m, \u001b[38;5;34m200\u001b[0m)            │     \u001b[38;5;34m1,081,800\u001b[0m │\n",
       "├─────────────────────────────────┼────────────────────────┼───────────────┤\n",
       "│ dense_1 (\u001b[38;5;33mDense\u001b[0m)                 │ (\u001b[38;5;45mNone\u001b[0m, \u001b[38;5;34m100\u001b[0m)            │        \u001b[38;5;34m20,100\u001b[0m │\n",
       "├─────────────────────────────────┼────────────────────────┼───────────────┤\n",
       "│ dense_2 (\u001b[38;5;33mDense\u001b[0m)                 │ (\u001b[38;5;45mNone\u001b[0m, \u001b[38;5;34m3\u001b[0m)              │           \u001b[38;5;34m303\u001b[0m │\n",
       "└─────────────────────────────────┴────────────────────────┴───────────────┘\n"
      ]
     },
     "metadata": {},
     "output_type": "display_data"
    },
    {
     "data": {
      "text/html": [
       "<pre style=\"white-space:pre;overflow-x:auto;line-height:normal;font-family:Menlo,'DejaVu Sans Mono',consolas,'Courier New',monospace\"><span style=\"font-weight: bold\"> Total params: </span><span style=\"color: #00af00; text-decoration-color: #00af00\">3,364,787</span> (12.84 MB)\n",
       "</pre>\n"
      ],
      "text/plain": [
       "\u001b[1m Total params: \u001b[0m\u001b[38;5;34m3,364,787\u001b[0m (12.84 MB)\n"
      ]
     },
     "metadata": {},
     "output_type": "display_data"
    },
    {
     "data": {
      "text/html": [
       "<pre style=\"white-space:pre;overflow-x:auto;line-height:normal;font-family:Menlo,'DejaVu Sans Mono',consolas,'Courier New',monospace\"><span style=\"font-weight: bold\"> Trainable params: </span><span style=\"color: #00af00; text-decoration-color: #00af00\">1,121,595</span> (4.28 MB)\n",
       "</pre>\n"
      ],
      "text/plain": [
       "\u001b[1m Trainable params: \u001b[0m\u001b[38;5;34m1,121,595\u001b[0m (4.28 MB)\n"
      ]
     },
     "metadata": {},
     "output_type": "display_data"
    },
    {
     "data": {
      "text/html": [
       "<pre style=\"white-space:pre;overflow-x:auto;line-height:normal;font-family:Menlo,'DejaVu Sans Mono',consolas,'Courier New',monospace\"><span style=\"font-weight: bold\"> Non-trainable params: </span><span style=\"color: #00af00; text-decoration-color: #00af00\">0</span> (0.00 B)\n",
       "</pre>\n"
      ],
      "text/plain": [
       "\u001b[1m Non-trainable params: \u001b[0m\u001b[38;5;34m0\u001b[0m (0.00 B)\n"
      ]
     },
     "metadata": {},
     "output_type": "display_data"
    },
    {
     "data": {
      "text/html": [
       "<pre style=\"white-space:pre;overflow-x:auto;line-height:normal;font-family:Menlo,'DejaVu Sans Mono',consolas,'Courier New',monospace\"><span style=\"font-weight: bold\"> Optimizer params: </span><span style=\"color: #00af00; text-decoration-color: #00af00\">2,243,192</span> (8.56 MB)\n",
       "</pre>\n"
      ],
      "text/plain": [
       "\u001b[1m Optimizer params: \u001b[0m\u001b[38;5;34m2,243,192\u001b[0m (8.56 MB)\n"
      ]
     },
     "metadata": {},
     "output_type": "display_data"
    }
   ],
   "source": [
    "cnn.summary()"
   ]
  },
  {
   "cell_type": "markdown",
   "metadata": {},
   "source": [
    "### Saving the Model"
   ]
  },
  {
   "cell_type": "code",
   "execution_count": 55,
   "metadata": {},
   "outputs": [
    {
     "name": "stderr",
     "output_type": "stream",
     "text": [
      "WARNING:absl:You are saving your model as an HDF5 file via `model.save()` or `keras.saving.save_model(model)`. This file format is considered legacy. We recommend using instead the native Keras format, e.g. `model.save('my_model.keras')` or `keras.saving.save_model(model, 'my_model.keras')`. \n"
     ]
    }
   ],
   "source": [
    "# Keras\n",
    "cnn.save(\"Downloads/ML Test/CNN/Mask/mask_model.h5\")"
   ]
  },
  {
   "cell_type": "code",
   "execution_count": 57,
   "metadata": {},
   "outputs": [
    {
     "data": {
      "text/plain": [
       "['Downloads/ML Test/CNN/Mask/mask_model.joblib']"
      ]
     },
     "execution_count": 57,
     "metadata": {},
     "output_type": "execute_result"
    }
   ],
   "source": [
    "# Joblib\n",
    "from joblib import dump\n",
    "dump(cnn, \"Downloads/ML Test/CNN/Mask/mask_model.joblib\")"
   ]
  },
  {
   "cell_type": "markdown",
   "metadata": {
    "colab_type": "text",
    "id": "U3PZasO0006Z"
   },
   "source": [
    "## Part 4 - Making new predictions"
   ]
  },
  {
   "cell_type": "markdown",
   "metadata": {},
   "source": [
    "### Loading the ML models"
   ]
  },
  {
   "cell_type": "code",
   "execution_count": 61,
   "metadata": {},
   "outputs": [
    {
     "name": "stderr",
     "output_type": "stream",
     "text": [
      "WARNING:absl:Compiled the loaded model, but the compiled metrics have yet to be built. `model.compile_metrics` will be empty until you train or evaluate the model.\n"
     ]
    }
   ],
   "source": [
    "# Keras\n",
    "from tensorflow import keras\n",
    "model = keras.models.load_model(\"Downloads/ML Test/CNN/Mask/mask_model.h5\")\n",
    "\n",
    "# Joblib\n",
    "# from joblib import load\n",
    "# loaded_model = load(\"Downloads/ML Test/CNN/Mask/mask_model.joblib\")"
   ]
  },
  {
   "cell_type": "code",
   "execution_count": 63,
   "metadata": {},
   "outputs": [
    {
     "name": "stderr",
     "output_type": "stream",
     "text": [
      "<>:6: SyntaxWarning: invalid escape sequence '\\M'\n",
      "<>:6: SyntaxWarning: invalid escape sequence '\\M'\n",
      "C:\\Users\\DELL\\AppData\\Local\\Temp\\ipykernel_19600\\4243233624.py:6: SyntaxWarning: invalid escape sequence '\\M'\n",
      "  test_folder = \"Downloads\\ML Test\\CNN\\Mask\\images\"\n"
     ]
    },
    {
     "name": "stdout",
     "output_type": "stream",
     "text": [
      "Class mapping: {0: 'mask_correct', 1: 'mask_incorrect', 2: 'no_mask'} \n",
      "\n",
      "0040_jpg.rf.c43b038496093ae04bdc04304e5b03c0.jpg             → mask_correct\n",
      "0043_jpg.rf.163cdf1c01352b1146bd98344bdf52e1.jpg             → mask_correct\n",
      "0113_jpg.rf.1286ca5b93123da33e479879f64c3d20.jpg             → mask_correct\n",
      "01242020_masks-qa_151720-780x520_jpg.rf.185292ca097330044ba23959e3a0d07f.jpg → mask_correct\n",
      "012420_coronoa_masks_web_jpg.rf.021c378365cd1ba78ebdc624af520ff8.jpg → mask_correct\n",
      "0128_png.rf.355642e826f1a73a273cf36665d2afac.jpg             → no_mask\n",
      "0158_jpg.rf.a5becbcb6627089ac9343a37dcd07d30.jpg             → mask_correct\n",
      "0171_jpg.rf.89d2834140801a93f96ce5f78837ec54.jpg             → mask_correct\n",
      "0211_jpg.rf.cf5444030cac5702c58b67658a6beafd.jpg             → mask_correct\n",
      "0220_jpg.rf.c4eaf71e2f8643e4a632cecff31e78a4.jpg             → mask_correct\n",
      "0250_png.rf.6a63775e4b3d7cf24e12aa166064e7df.jpg             → mask_correct\n",
      "0277_jpg.rf.784872dce396a6016c379e6703defd51.jpg             → mask_correct\n",
      "0323_jpg.rf.9ab0f4928ece389409ff6b7a1d96d466.jpg             → mask_correct\n",
      "0387_png.rf.df30f2580686d5109061391517c3917c.jpg             → mask_correct\n",
      "0417_jpg.rf.f72c1c3d980214a15b38eb250a1eb03d.jpg             → mask_correct\n",
      "0418_jpg.rf.c5e75e1c1731b82d94cffe06567c9db4.jpg             → mask_correct\n",
      "0421_jpg.rf.e30bbdf80a189f5429eab060da10c7f6.jpg             → mask_correct\n",
      "0466_jpg.rf.5e3d63666527a7f46ad12835b9e0b278.jpg             → mask_correct\n",
      "0482_jpg.rf.208a62ba5fb6f9321ff3ebd77f355d43.jpg             → mask_correct\n",
      "0503_png.rf.eb7aa7efe7ae17939c816f4e0d8fc534.jpg             → mask_incorrect\n",
      "0547_jpg.rf.efce6704ffcea7cec80337b30c673ea2.jpg             → mask_correct\n",
      "0566_jpg.rf.02e670146c68f03607e7d95ea0ee245c.jpg             → mask_correct\n",
      "0582_jpg.rf.3f2c96298c2f5cdcf4d04ef97f4e3bd8.jpg             → mask_correct\n",
      "0583_jpg.rf.fc7bc17428dd201731adc05364ee2418.jpg             → mask_correct\n",
      "0614_jpg.rf.f9772b960dc1de37a3c38461a04020c6.jpg             → mask_correct\n",
      "0644_jpg.rf.cf8b6a0ce9c2d9011b9217dd3f01c66e.jpg             → mask_correct\n",
      "0655_jpg.rf.039abc47cbb5546b6eccc8e6e7546c12.jpg             → mask_correct\n",
      "0661_jpg.rf.b0482f635c605254b85b817ba8c73233.jpg             → mask_correct\n",
      "0714_jpg.rf.fde6d2e92eba74346cb70b069929032b.jpg             → mask_correct\n",
      "0733_jpg.rf.4e559c9a19ccad613092bed3167510f1.jpg             → mask_correct\n",
      "0760_jpg.rf.aff7e7f81e3e38df4e03726eee9f3198.jpg             → mask_correct\n",
      "0780_jpg.rf.0000dd034e8dfef8c3ef31b16492c215.jpg             → mask_correct\n",
      "0802_jpg.rf.c37c73d155c31e10a018945bd029e4ac.jpg             → mask_correct\n",
      "0838_jpg.rf.fc61646ea8a22a9ed9c74237ba736d26.jpg             → mask_correct\n",
      "0891_jpg.rf.e7b12fa3426c8972d387e042c31af087.jpg             → mask_correct\n",
      "0911_jpg.rf.638ea36ba071d4a357b2baf72a0dfc75.jpg             → mask_correct\n",
      "0934_png.rf.adf81f20998d7181d96dc397899e2e11.jpg             → mask_correct\n",
      "0SV9TBN2DF1QLIE3XAMO_jpg.rf.a6af598fd48114455cffdb2d4a26c168.jpg → mask_correct\n",
      "1020_jpg.rf.326eac820ba455e0f9adde6867395bc7.jpg             → mask_correct\n",
      "1036_png.rf.f917a25fd891ba2d200a010d1e3ff5df.jpg             → mask_correct\n",
      "1039_jpg.rf.61a4b8acf8d57d92545ed0133771184e.jpg             → mask_correct\n",
      "1040_jpg.rf.181a7db6948b79914081476254036b8a.jpg             → mask_correct\n",
      "1053_jpg.rf.1f5819555a07bb02ce4cb0347369e713.jpg             → mask_correct\n",
      "1054_jpg.rf.d300a1ed7df4c422c0b0e1d293b4bf9b.jpg             → mask_correct\n",
      "106515088-1588273853227gettyimages-1208551139_jpeg.rf.9719ad8413f33732f2b7f693fe5dae4b.jpg → mask_correct\n",
      "1067_jpg.rf.4a0a390026cc365e4d277f070186c7bd.jpg             → mask_correct\n",
      "1095_jpg.rf.f405ba8664654d1da33b51cf8b380413.jpg             → mask_correct\n",
      "1249493_jpg.rf.a3f4e62ec2caf5762cc55a38c0b4c4fc.jpg          → mask_correct\n",
      "1279_jpg.rf.2457d510f404b770886df8bc8f462e5d.jpg             → mask_incorrect\n",
      "1288126-10255706714jpg_jpg.rf.bb5e0741f85118a078e8e261548d400d.jpg → mask_correct\n",
      "1290_jpg.rf.d696d58a09ad6751f80fcd01900b6ffb.jpg             → mask_correct\n",
      "1339_jpg.rf.4eaaed53282897ba233dff0868c532ce.jpg             → mask_correct\n",
      "1453_jpg.rf.11edec5a8b2b4836e5b2a849040131ff.jpg             → mask_correct\n",
      "1456_jpg.rf.f12792778944c9f8aa5cd1d43d437459.jpg             → mask_correct\n",
      "1490_jpg.rf.21d0f86da797bab054cb52ddfc51318a.jpg             → mask_correct\n",
      "1491_jpg.rf.313aacda46acf9aa712b1b209f495aa0.jpg             → mask_incorrect\n",
      "15-08608-001_jpg.rf.c6baf828a353cb1b115c9eae3aaef718.jpg     → mask_correct\n",
      "1503_jpg.rf.5b369440c94c024efbd27b78f69be2c2.jpg             → mask_correct\n",
      "1511_jpg.rf.ee9d16668f3d89fe9f4ffc00d7ecd731.jpg             → mask_correct\n",
      "1517_jpg.rf.b9b9cd821dd0d9a8c124223fb396419b.jpg             → mask_correct\n",
      "1518_jpg.rf.78d2d7a0e51ddbf3b9d3360e4022724c.jpg             → mask_correct\n",
      "1526_jpg.rf.c6bd5af83eae7d9f266cda5544422c5b.jpg             → mask_correct\n",
      "1527_jpg.rf.4c01d7809d7552b5b63a0e1afc913ece.jpg             → mask_correct\n",
      "1556_jpg.rf.5eca3df26785ab401f23a36d71cb492c.jpg             → mask_correct\n",
      "1568_jpg.rf.847a0a87a3584f002597446ceda8f64c.jpg             → mask_correct\n",
      "1576_jpg.rf.c64192326028d1c84c9e5a3fc0c1ef85.jpg             → mask_correct\n",
      "1593681364661_jpg.rf.1bcdede6a9d2d9e4e9a10dab9b13a888.jpg    → mask_correct\n",
      "1593681375130_jpg.rf.68fdcb17925a18dc9c29f1a9598510e3.jpg    → mask_correct\n",
      "1593707825909_jpg.rf.1c371355f718ee2dfb9839c4f27b9e81.jpg    → mask_correct\n",
      "1593707856307_jpg.rf.96474162c8e0d3c51c4769c36bc96a8e.jpg    → mask_correct\n",
      "1637_jpg.rf.a9f4e703a096cbd64126e8c74b12e161.jpg             → mask_correct\n",
      "1804_jpg.rf.f19866ad9419cdc05089ac1fb1722f2d.jpg             → mask_incorrect\n",
      "1841_jpg.rf.1fd7c651e738ce3b7a5199cb11d35240.jpg             → mask_correct\n",
      "1843_jpg.rf.f537702d7dad1ad429a15a4e152c6e3f.jpg             → mask_correct\n",
      "1894_jpg.rf.99ba2dce8652985a617c51099ad78f07.jpg             → mask_correct\n",
      "1997_jpg.rf.23a6c8b2641f6621b6d1dd389dac3a94.jpg             → mask_correct\n",
      "1_th_webp.rf.173e44e6c456d754edb160172da9be6c.jpg            → mask_correct\n",
      "200210163309-coronavirus-economia-mundial-afecta-brote-virus-portafolio-global-cnnee-00000000_jpg.rf.5d787246784795b1ef083e5474feb47a.jpg → mask_correct\n",
      "20200206102815-d6a8099999dddcaf74281ddf55e12856-mobile_jpeg.rf.148bbddbf339d962f2fabd82d8c04d78.jpg → mask_correct\n",
      "2154_png.rf.51c368cdb3691f16a73099e08c5036cf.jpg             → mask_correct\n",
      "2159_png.rf.e6c0736e2a6649b81e4990e7f730f552.jpg             → mask_incorrect\n",
      "2172_png.rf.5d767ec287ca7c24b94606e2c7678b0f.jpg             → mask_correct\n",
      "2174_png.rf.292edebe822f6a9c77bd1510979f4edd.jpg             → mask_correct\n",
      "2182_png.rf.b77d772915bbb61fa52ced3a827968e6.jpg             → mask_correct\n",
      "2188_png.rf.08d109b61c6e8d7a1c13d960137404a2.jpg             → mask_correct\n",
      "2251_png.rf.1e085d8e1fde65f03b105a26c4815410.jpg             → mask_correct\n",
      "2263_png.rf.8f8bad67df449631dbe19eb571db3ff7.jpg             → mask_correct\n",
      "2264_png.rf.bffbe9fed8af4c201e1ab60d259f618b.jpg             → mask_correct\n",
      "2317_png.rf.749b54d80fd4e33b793b3769c48c3e6e.jpg             → mask_correct\n",
      "2338_png.rf.35e07562274bf1eeb47025eebb4cc4c4.jpg             → mask_correct\n",
      "2387_png.rf.b4eea4359306bf6ef86faee4542f9aaa.jpg             → mask_correct\n",
      "2388_png.rf.c7c42ead73e1133e2319a3261e405871.jpg             → mask_correct\n",
      "2396_png.rf.b8451d710b45ee6837ba9ea04ba71ec4.jpg             → mask_correct\n",
      "2488_png.rf.d6736ade193925f7e782117a2347dce1.jpg             → mask_correct\n",
      "2490_png.rf.33ed9ce5a35e81f70ced9a2572d847f5.jpg             → mask_correct\n",
      "2577_png.rf.7c823aba833a4f0794ab6169c339bae7.jpg             → mask_correct\n",
      "2584_png.rf.d80ba1458012204ba7d72e40bd05cfbd.jpg             → mask_correct\n",
      "2592_png.rf.ed0591ac138528e234f7d9cd216c6c34.jpg             → mask_correct\n",
      "2651_png.rf.0b6e3d7154bcf15a78f6ff007f081c3e.jpg             → mask_incorrect\n",
      "284423_1453686934636_jpg.rf.b0ced301681d5a553f48034512fcd853.jpg → mask_correct\n",
      "2XF6Y1GIVNP5L3HJ79WO_jpg.rf.7e58302f26c4441e3a0de9c94a926196.jpg → mask_correct\n",
      "304193_medium_jpg.rf.8f894d81c707e74e4b5c9250b898e686.jpg    → mask_correct\n",
      "49KN567DFJBSL0HRMOTY_jpg.rf.2ebc5e3e3e959d2c47c0615d26046c90.jpg → mask_correct\n",
      "54N9WGXFVT0B83PHR7JK_jpg.rf.cef84569bf89ef463ad4beb83de291ca.jpg → mask_correct\n",
      "61l7nF-REtL-_SL1001__jpg.rf.bd0269425c17939f9c3aa6a299d1d8ae.jpg → mask_correct\n",
      "6428_png.rf.02c199ffe11c45492ae1937d2dac2e66.jpg             → mask_incorrect\n",
      "765007-china-battles-coronavirus-outbreak-all-the-latest-updates_jpg.rf.f6b90be16f2c0fc560853155e62187db.jpg → mask_correct\n",
      "960x0_jpg.rf.1920736531e7abe798070d2364367f52.jpg            → mask_correct\n",
      "abstrax_art_13120-copy_jpg.rf.098e3490b7439a93a739621c71f24285.jpg → mask_correct\n",
      "AJLG0U6OBRSYKN9T8QF2_jpg.rf.5bdc7c886ad5b25b48e1fd9f0f973545.jpg → mask_correct\n",
      "aug_138_jpg.rf.6e3589eac14c87ad00d6bcf52a2b1d14.jpg          → mask_correct\n",
      "aug_161_jpg.rf.9b98ef00133a0786a3d7cedf99e7a372.jpg          → mask_correct\n",
      "aug_262_jpg.rf.5e7a212596cdc28c807c5bcc403afa43.jpg          → mask_correct\n",
      "aug_287_jpg.rf.c6512ee10b051f36d528d60fe19b8b27.jpg          → mask_correct\n",
      "aug_288_jpg.rf.5e6f405a48651f34479825f51192468c.jpg          → mask_correct\n",
      "aug_331_jpg.rf.0e2a8ebf8d8b6841ef3381b1edc02893.jpg          → mask_correct\n",
      "aug_355_jpg.rf.9d23192edeb74198c12d8323d8aef023.jpg          → mask_incorrect\n",
      "aug_378_jpg.rf.1dac8e0f8cd402f4291a4f483adcc2a3.jpg          → mask_incorrect\n",
      "aug_403_jpg.rf.a8f72671870d194e0b559875eb1a79df.jpg          → mask_correct\n",
      "aug_41_jpg.rf.90adf84b8e1f6b20d4f10187310f3db3.jpg           → mask_incorrect\n",
      "aug_431_jpg.rf.8ff55455e171f11a962967a2c16a8246.jpg          → mask_correct\n",
      "aug_472_jpg.rf.965b72b01d819043759ff9bf4a79e6ca.jpg          → mask_correct\n",
      "aug_505_jpg.rf.7c1d071839e3d8873ea0e73dde971ca5.jpg          → mask_correct\n",
      "aug_515_jpg.rf.14b374acb31b81bc87b73264d41e6ce6.jpg          → mask_incorrect\n",
      "aug_542_jpg.rf.7419f7d9174213f833c63b879bb5cf62.jpg          → mask_incorrect\n",
      "aug_55_jpg.rf.9df301e4dca9b9be92de7d71c1856612.jpg           → mask_incorrect\n",
      "aug_567_jpg.rf.e84291b8c8d7840466d412a699684263.jpg          → mask_incorrect\n",
      "aug_621_jpg.rf.c28d4dbc96129ac5449684ce464e707d.jpg          → no_mask\n",
      "aug_670_jpg.rf.4a027bdeea11c40f30edf80ee4191326.jpg          → mask_incorrect\n",
      "aug_96_jpg.rf.52b6a6f1690aea488bd17cf22399e201.jpg           → mask_correct\n",
      "B612_20200127_155432_958_jpg.rf.a253b58fa352a5fb1b851ae26bfff319.jpg → mask_correct\n",
      "C3PUSRLMO0DW17J69E5Z_jpg.rf.1c4cd12be546906d8dc0851ff19fdf54.jpg → mask_correct\n",
      "coronavirus-bild_jpg.rf.3e97617775a749f1b5086913ad16b21a.jpg → mask_correct\n",
      "coronavirus-contagios-china_jpeg.rf.c61817d5d53e83e080251e22f08f73bc.jpg → mask_correct\n",
      "covid-19_76875a76-6805-11ea-963c-5f43816952e0_jpg.rf.f317fc62538b0ddc5e47dc88eb153a2d.jpg → mask_correct\n",
      "CZHQ45P2AD8N06WITLXB_jpg.rf.d4e8f10085d0e431cf9127319fe4ecda.jpg → mask_correct\n",
      "D237_57_812_1200_jpg.rf.f4032e090e92770567cab211e8cfbf79.jpg → mask_correct\n",
      "depositphotos_196902688-stock-photo-mother-daughter-protective-masks-hugging_jpg.rf.2f296803839009aa73e3cc9811f01b15.jpg → mask_correct\n",
      "GettyImages-1215276522_jpg.rf.1c20b460971c7bdceb4eb49d24ea923e.jpg → mask_correct\n",
      "gffgjfjfj_jpeg.rf.aa45280c6cb9eb05a988cdd47cbe5ddf.jpg       → mask_correct\n",
      "image5_jpeg.rf.4975ffa4912c5019bab13848ac3c0b95.jpg          → mask_incorrect\n",
      "images8_jpg.rf.2d6a26199b6deccb8368798e71512909.jpg          → mask_correct\n",
      "incorrect-mask-26_jpg.rf.97a48d00323df6b08e75835bd9bf3877.jpg → mask_incorrect\n",
      "incorrect-mask-40_jpg.rf.9209e2b4ed86335ad4b3995a2ad5a1e2.jpg → mask_incorrect\n",
      "IQD1HVMUTNA87YJWRS6P_jpg.rf.22d14fd162801298ea4e894f43d4cf06.jpg → mask_correct\n",
      "istockphoto-1283539471-612x612_jpg.rf.8ff76f00f92972e64e5103c8234b978c.jpg → mask_incorrect\n",
      "madame_1_jpg.rf.90a61f96ba486e424c31d9e20aed979f.jpg         → mask_correct\n",
      "maksssksksss103_png.rf.97859ceb2fe58767acbc47438a7729bb.jpg  → mask_correct\n",
      "maksssksksss105_png.rf.96901bc1c873c53dc1a401bb629925a2.jpg  → mask_correct\n",
      "maksssksksss108_png.rf.289e8e7426f6bc7174f171b4cead0d60.jpg  → mask_correct\n",
      "maksssksksss10_png.rf.b21f007248e36518c5b49c1bb153c676.jpg   → mask_incorrect\n",
      "maksssksksss110_png.rf.77d4363c289754196bf4fb4c1b89a2ec.jpg  → mask_correct\n",
      "maksssksksss112_png.rf.6caf8de7eaf4c43282650aea3bf759c2.jpg  → mask_correct\n",
      "maksssksksss112_png.rf.d871cc5c13f1dfe7550471058dd03563.jpg  → mask_correct\n",
      "maksssksksss115_png.rf.a0708e95abd38fb39aba50de77ccfaaf.jpg  → mask_correct\n",
      "maksssksksss116_png.rf.3683d377f1b5248df4e2b05b8f733d47.jpg  → mask_correct\n",
      "maksssksksss117_png.rf.d839a94871f1c45050ed6d342789b8f2.jpg  → mask_correct\n",
      "maksssksksss127_png.rf.988e19e3b9f0d36af323f472cce87283.jpg  → mask_correct\n",
      "maksssksksss133_png.rf.83fd2c0499d41d98d8c3219539f8fee9.jpg  → mask_correct\n",
      "maksssksksss138_png.rf.6b3d5c54dac5a0e0134dcf05b45fc0ce.jpg  → mask_correct\n",
      "maksssksksss139_png.rf.4d9f9b8c0a790ca0286e252e9ada986c.jpg  → mask_correct\n",
      "maksssksksss142_png.rf.c3413fd7cd81d0cbe56351e31e6ec20d.jpg  → mask_correct\n",
      "maksssksksss144_png.rf.fa276edc113a314199573b8cd24ffe41.jpg  → mask_correct\n",
      "maksssksksss146_png.rf.4e7dc563eabfe7c6ec896efbe5ea9f40.jpg  → mask_correct\n",
      "maksssksksss146_png.rf.e9d895e4425605aa6094a5fe589d8ae8.jpg  → mask_correct\n",
      "maksssksksss148_png.rf.dfd41bd533a10cdca67d2b7480500dad.jpg  → mask_correct\n",
      "maksssksksss14_png.rf.67ec9be4b1d687d8f26160ccb9f4721f.jpg   → mask_correct\n",
      "maksssksksss150_png.rf.436a801393ec38878ea1569c051cf741.jpg  → mask_correct\n",
      "maksssksksss153_png.rf.aa1758e3bd1f857ce623350651f0d29f.jpg  → mask_correct\n",
      "maksssksksss154_png.rf.4e39eb455c2b9e3f9c29a9a59e792bec.jpg  → mask_correct\n",
      "maksssksksss155_png.rf.381d87e1c4a7136df4cc238e94e1f5a2.jpg  → mask_incorrect\n",
      "maksssksksss156_png.rf.6dfa6b01b821d373823aabb706176952.jpg  → mask_correct\n",
      "maksssksksss156_png.rf.ccafab55f587e7f7f70d15d370bfdceb.jpg  → mask_correct\n",
      "maksssksksss158_png.rf.32da7e9f7d3a85a1dd55207539e2f0a9.jpg  → mask_correct\n",
      "maksssksksss164_png.rf.94d9478f1ae3f88b974301ac3ad8a964.jpg  → mask_correct\n",
      "maksssksksss166_png.rf.b883716398cc470745fd3ff100e986d2.jpg  → mask_correct\n",
      "maksssksksss169_png.rf.913a37993651f85f3c4bf94f83822a3d.jpg  → mask_correct\n",
      "maksssksksss16_png.rf.3c4b8c2e9e57ad0a8d5e308083215b07.jpg   → mask_correct\n",
      "maksssksksss171_png.rf.a45c34f566a4d601cbee77e874dc7c3e.jpg  → mask_incorrect\n",
      "maksssksksss174_png.rf.af7dd5c297ac02942b5343578253cf65.jpg  → mask_correct\n",
      "maksssksksss175_png.rf.2e3455a26b956f638b78dca385b01393.jpg  → mask_correct\n",
      "maksssksksss176_png.rf.48bca37002c51844b749965d5c4c162c.jpg  → mask_correct\n",
      "maksssksksss177_png.rf.818730d0880719f8b07a69a6de5d6dda.jpg  → mask_correct\n",
      "maksssksksss17_png.rf.005bbaea9fa8df2e330c80d53b30f761.jpg   → mask_correct\n",
      "maksssksksss180_png.rf.6bab0b90fc5a99b1c7ed6011a56a5658.jpg  → mask_correct\n",
      "maksssksksss181_png.rf.7e981dc70d5c188e2d31c85f9057c081.jpg  → mask_correct\n",
      "maksssksksss183_png.rf.6c1f1a3a3b506c369ec724a4e32865cd.jpg  → mask_correct\n",
      "maksssksksss187_png.rf.900840cda627437fb999bbde28b4935f.jpg  → mask_correct\n",
      "maksssksksss188_png.rf.fcd854ec80426046842ff0172f728688.jpg  → mask_correct\n",
      "maksssksksss189_png.rf.f52d307390827b43c5d99c9d7d02871a.jpg  → mask_incorrect\n",
      "maksssksksss192_png.rf.d1e637e2ddacbeffe2246cb1febb00a0.jpg  → mask_correct\n",
      "maksssksksss192_png.rf.e73609b9fb512373ec1bf929f6ae0c2e.jpg  → mask_correct\n",
      "maksssksksss193_png.rf.cab82c71b6b817f60d0370ecf5e183a5.jpg  → mask_correct\n",
      "maksssksksss195_png.rf.a33cd2e1718ee694c453a28ac8f095ef.jpg  → mask_correct\n",
      "maksssksksss199_png.rf.472661afda9cad9aeaa26d54683b55ef.jpg  → mask_correct\n",
      "maksssksksss201_png.rf.514faa46a6967c80cb9ae361b2409cd2.jpg  → mask_correct\n",
      "maksssksksss201_png.rf.c5f8904e99dd4765f834cd9345fe5612.jpg  → mask_correct\n",
      "maksssksksss203_png.rf.e24ef908d722deb7fd2f579ef634e8e8.jpg  → mask_correct\n",
      "maksssksksss207_png.rf.97bfb84dff19f0e4ba43fa03825ed4f3.jpg  → mask_correct\n",
      "maksssksksss209_png.rf.168bb933e1e2b0a2b46c31818b6a90cd.jpg  → mask_correct\n",
      "maksssksksss20_png.rf.4bf8330fc0b2d9fd29595c045924f6bd.jpg   → mask_correct\n",
      "maksssksksss210_png.rf.4d3e7370a103d6554bed600a80c5d2c1.jpg  → mask_correct\n",
      "maksssksksss212_png.rf.57a201a28e36fb3e6ffe608f8ee69383.jpg  → mask_correct\n",
      "maksssksksss220_png.rf.0dc298e32b2e61be7ed7a145f87881d4.jpg  → mask_correct\n",
      "maksssksksss221_png.rf.78d861c481bd98039c609be9016ddb6c.jpg  → mask_correct\n",
      "maksssksksss225_png.rf.ec30db30c37e738983b397431dc681f6.jpg  → mask_incorrect\n",
      "maksssksksss226_png.rf.2325560e6bb300c689b6799c561ed062.jpg  → mask_correct\n",
      "maksssksksss232_png.rf.d2452896d00652bfef4d06b480ee1e17.jpg  → mask_incorrect\n",
      "maksssksksss234_png.rf.b1dcb0f72e47807457428b8ec94a05f9.jpg  → mask_correct\n",
      "maksssksksss241_png.rf.78bd2bb5d6c677de037777900a11e914.jpg  → mask_correct\n",
      "maksssksksss244_png.rf.54272ddbda1368e45e927e8290a495e5.jpg  → mask_correct\n",
      "maksssksksss246_png.rf.ec9ad82916b3544cf7683b7b5bb92b8e.jpg  → mask_correct\n",
      "maksssksksss248_png.rf.efe716b7f52b0154f3791c0503372512.jpg  → mask_correct\n",
      "maksssksksss24_png.rf.479d9730de38b5a842f45b9390012547.jpg   → mask_correct\n",
      "maksssksksss252_png.rf.20ccb701fbbea0279629a05b816c7432.jpg  → mask_correct\n",
      "maksssksksss25_png.rf.c38f345b8f8b0f1008a4ebffb2405085.jpg   → mask_correct\n",
      "maksssksksss261_png.rf.64e36b3bb34da62a17fe6a6dab8fbf56.jpg  → mask_correct\n",
      "maksssksksss261_png.rf.7887298d7b568b73cdd8e53cc1950552.jpg  → mask_correct\n",
      "maksssksksss263_png.rf.1c808acc528d82184c854d17e6ca2512.jpg  → mask_correct\n",
      "maksssksksss269_png.rf.7be3fe6942c735812400222a5a34bb71.jpg  → mask_correct\n",
      "maksssksksss26_png.rf.17809fbdddd2187bc93d68401f812ee9.jpg   → mask_correct\n",
      "maksssksksss271_png.rf.7de378719a2c3ea7f5e6d78c471fa098.jpg  → mask_correct\n",
      "maksssksksss272_png.rf.47cb2d88865e0f9fe36282d2ba147fbe.jpg  → mask_correct\n",
      "maksssksksss273_png.rf.8bdcaf9ef514102d0bcfa3af6e86a66d.jpg  → mask_correct\n",
      "maksssksksss273_png.rf.ef3ba72714e6d34ded14f591a3680e41.jpg  → mask_correct\n",
      "maksssksksss275_png.rf.12ec97264cc5e902ba5b25e111a9f772.jpg  → mask_correct\n",
      "maksssksksss278_png.rf.794178ad250a0c19ac6a6b7025b1d7c2.jpg  → mask_correct\n",
      "maksssksksss281_png.rf.431fc67db6843f1d79d84379709ae738.jpg  → mask_correct\n",
      "maksssksksss292_png.rf.a5f09a459201aad2161e862a122c780e.jpg  → mask_correct\n",
      "maksssksksss294_png.rf.98ffdb025a42d6dba82380ca89413c70.jpg  → mask_correct\n",
      "maksssksksss295_png.rf.abb5331b8aeed5ecbd42e3f8f06b06d2.jpg  → mask_correct\n",
      "maksssksksss296_png.rf.24b6fdaeae043865ba35d32d38029694.jpg  → mask_correct\n",
      "maksssksksss298_png.rf.0abfaa6c5cfd14ecd37bf583ca631dbc.jpg  → mask_correct\n",
      "maksssksksss29_png.rf.e14add9d1f5770f0a31c46cb1f27f558.jpg   → mask_incorrect\n",
      "maksssksksss2_png.rf.f6df831ed2ca25ae2fa013f820776004.jpg    → mask_correct\n",
      "maksssksksss300_png.rf.d8bd33d987f6f38b6149bb5d39bca9ac.jpg  → mask_correct\n",
      "maksssksksss302_png.rf.5eb79c96820e50b541db79f0e526f288.jpg  → mask_correct\n",
      "maksssksksss302_png.rf.e6b53ef910d972b501d612ae36da7ecc.jpg  → mask_correct\n",
      "maksssksksss303_png.rf.9b0a9698fe02d44851f86c6ea61fdadf.jpg  → mask_correct\n",
      "maksssksksss306_png.rf.3d50a45a9a8186409af6e5f97b35c531.jpg  → mask_correct\n",
      "maksssksksss307_png.rf.1a679860e8d0e4773b7672fd3c93dd3e.jpg  → mask_incorrect\n",
      "maksssksksss308_png.rf.f8d9eb59cc5e31de3a22d6763a80ea6f.jpg  → mask_correct\n",
      "maksssksksss309_png.rf.d529bd8155ab2450691f8cf891975eb7.jpg  → mask_correct\n",
      "maksssksksss310_png.rf.886218aa90bf6a99bc30231be0daa70e.jpg  → mask_correct\n",
      "maksssksksss312_png.rf.0a5f7f8a38163085b3cb7acb4d05a928.jpg  → mask_correct\n",
      "maksssksksss313_png.rf.14a699ef19666b806a2017f5fab470d2.jpg  → mask_correct\n",
      "maksssksksss31_png.rf.b11c963c7ba8ee7fa5608b4c83b7f0b5.jpg   → mask_correct\n",
      "maksssksksss322_png.rf.15fdaaeef83849aa53c587cc74b45776.jpg  → mask_correct\n",
      "maksssksksss323_png.rf.d29cec59d103a585af0e474ab4231963.jpg  → mask_incorrect\n",
      "maksssksksss328_png.rf.aeefb8a77fc6056677fed229b521db56.jpg  → mask_correct\n",
      "maksssksksss332_png.rf.c2970e83b725d375c46aaadb454a1a60.jpg  → mask_correct\n",
      "maksssksksss336_png.rf.d7ec0c36857bab13043e303eb5a623b2.jpg  → mask_correct\n",
      "maksssksksss337_png.rf.860de3384ac922ef5df11f05f17ff3f9.jpg  → mask_correct\n",
      "maksssksksss339_png.rf.43ac6eaebfa82f404c420f890d04a719.jpg  → mask_correct\n",
      "maksssksksss340_png.rf.70794cd6209d86d5452f3094d7ff7ea3.jpg  → mask_correct\n",
      "maksssksksss345_png.rf.1afb156a77fc2a5ac24e7d011f63495b.jpg  → no_mask\n",
      "maksssksksss345_png.rf.84d8777d3740f02b77a9ef4cff41699b.jpg  → no_mask\n",
      "maksssksksss347_png.rf.fe064d7c2ee6d6968d9f3eeb61655638.jpg  → mask_correct\n",
      "maksssksksss349_png.rf.0a06812cc8d2704e280c49db28146383.jpg  → mask_correct\n",
      "maksssksksss349_png.rf.72a99eed37f228c2463a463a3ee2169d.jpg  → mask_correct\n",
      "maksssksksss351_png.rf.651d62fda840845631c29ed993eee635.jpg  → mask_correct\n",
      "maksssksksss354_png.rf.8224dad5c570fd639c20593d83b6d848.jpg  → mask_correct\n",
      "maksssksksss357_png.rf.a366d9d85f209c2a9c1f7e0caa19a9eb.jpg  → mask_correct\n",
      "maksssksksss359_png.rf.a9d774f74a4babfa92a6cf4c8baac39e.jpg  → mask_correct\n",
      "maksssksksss360_png.rf.9beed7deaa7838acefde4e137190540d.jpg  → mask_correct\n",
      "maksssksksss360_png.rf.e7da7ec302e120490f2f2cd4af3fbcd4.jpg  → mask_correct\n",
      "maksssksksss364_png.rf.b5964fea137262fd3cf8e864f93da5c5.jpg  → mask_correct\n",
      "maksssksksss365_png.rf.0bcd94ffc59aa012c9270244ceb63fa9.jpg  → mask_correct\n",
      "maksssksksss366_png.rf.231379c9a708d4b75b8c63722465def2.jpg  → mask_correct\n",
      "maksssksksss368_png.rf.c04d8cafcf209c05d709436ec9d28d9f.jpg  → mask_correct\n",
      "maksssksksss369_png.rf.6aa7925371440145f18257cca29adbb5.jpg  → mask_correct\n",
      "maksssksksss371_png.rf.c6bfdd42d84ef594fd274ab8a749700c.jpg  → mask_incorrect\n",
      "maksssksksss373_png.rf.935b97e3bfdf0e88d14167a36b8c5e3a.jpg  → mask_correct\n",
      "maksssksksss378_png.rf.b9b090e39d98fa838c4443fc878d5140.jpg  → no_mask\n",
      "maksssksksss380_png.rf.7a683aa2dab320d68866e43a1f09b348.jpg  → mask_correct\n",
      "maksssksksss38_png.rf.944663be0050685e43c2fc9ba0f5ff27.jpg   → mask_correct\n",
      "maksssksksss391_png.rf.373f92a18730de2785676edee1a405c0.jpg  → mask_correct\n",
      "maksssksksss392_png.rf.5a845b1a3ce65adada5fabd96001324a.jpg  → mask_correct\n",
      "maksssksksss394_png.rf.c8a8c87933b79716916fde68739bd6c5.jpg  → mask_correct\n",
      "maksssksksss3_png.rf.b1641c9f5074cf74b9a19305826cfd27.jpg    → mask_correct\n",
      "maksssksksss406_png.rf.335e85ba0f74f6e12e479f258182e86c.jpg  → mask_correct\n",
      "maksssksksss406_png.rf.db96047b76fd39b6f8b3ce83d635953c.jpg  → mask_correct\n",
      "maksssksksss407_png.rf.0188352f8f215d9bbf8531e478b454c2.jpg  → mask_correct\n",
      "maksssksksss407_png.rf.ce01fb5c61ff99fedc1789fa5185dbc8.jpg  → mask_correct\n",
      "maksssksksss408_png.rf.bbf0eafa81217fda0baae4e90c728d7e.jpg  → no_mask\n",
      "maksssksksss409_png.rf.028a7dd0a7044469a77425b7e9718b1b.jpg  → mask_correct\n",
      "maksssksksss409_png.rf.a53fb28b5d413480d499fb3315cc4e8e.jpg  → mask_correct\n",
      "maksssksksss414_png.rf.109497f1a0731cd8ce1e1256f0374375.jpg  → mask_correct\n",
      "maksssksksss418_png.rf.84dc6da2aff61fec73049e7cafee9136.jpg  → mask_correct\n",
      "maksssksksss420_png.rf.ab6b7642a0550cfc3a6f5cb47478d7bd.jpg  → no_mask\n",
      "maksssksksss421_png.rf.484a1fcd5d136cca03afdbd47fe7a027.jpg  → mask_correct\n",
      "maksssksksss423_png.rf.39f5aa8d43aea9ceebb41c76b3ef78b5.jpg  → mask_correct\n",
      "maksssksksss425_png.rf.e4a25fd0666eac44a11ed47d79fe7311.jpg  → mask_correct\n",
      "maksssksksss426_png.rf.8c91fed47c69edf684aa1a41b755f3d8.jpg  → mask_correct\n",
      "maksssksksss426_png.rf.edd13bf2ade8e91c225b99b3b0b155d9.jpg  → mask_correct\n",
      "maksssksksss427_png.rf.53d4964bc97176f54d210af63f592693.jpg  → mask_correct\n",
      "maksssksksss42_png.rf.3b8faba9027319471be96cc11bb2b7e5.jpg   → mask_correct\n",
      "maksssksksss432_png.rf.41e95e62e27d841ff8911880e3cdc305.jpg  → mask_correct\n",
      "maksssksksss434_png.rf.69459e4e93d897289c9e6058d2036c7e.jpg  → mask_correct\n",
      "maksssksksss438_png.rf.447784262876a79940f7203abae76235.jpg  → mask_correct\n",
      "maksssksksss438_png.rf.af6fee3ac7d6b94cb62f2406565e64a6.jpg  → mask_correct\n",
      "maksssksksss439_png.rf.19f7dbca198221c79f2586e69a143e3c.jpg  → mask_correct\n",
      "maksssksksss439_png.rf.34ffb201e89804eb8177aa0df0b36d6f.jpg  → mask_correct\n",
      "maksssksksss441_png.rf.c6e0046ac5e811654d797ce6f9a82eb8.jpg  → mask_correct\n",
      "maksssksksss443_png.rf.37a50a5baeea261c3f23e2660ed7dca4.jpg  → mask_correct\n",
      "maksssksksss447_png.rf.5d88e4e524c944f7c3db0b63fc2508d8.jpg  → mask_correct\n",
      "maksssksksss448_png.rf.5f3c612f441b23a39f402e63a3c6600d.jpg  → mask_correct\n",
      "maksssksksss44_png.rf.53fefe17811906017a0bae8fd4457d6d.jpg   → mask_correct\n",
      "maksssksksss450_png.rf.07a2d7f7abb76e92068a29a0f013530d.jpg  → mask_correct\n",
      "maksssksksss451_png.rf.54dc82c290d2505b21e1ad15e8dc334d.jpg  → mask_correct\n",
      "maksssksksss454_png.rf.b336f19f9536b7ceb37e72623c7d6f90.jpg  → mask_correct\n",
      "maksssksksss455_png.rf.08a91a646ad6826d115ae21b025f3c2f.jpg  → mask_correct\n",
      "maksssksksss456_png.rf.f2edc332dc6085d7cac17b655f739d3c.jpg  → mask_correct\n",
      "maksssksksss458_png.rf.8cf737500b3afd12883854f826653958.jpg  → mask_correct\n",
      "maksssksksss466_png.rf.e520eb81ed3ab4e11aaab0cb573e84a6.jpg  → mask_correct\n",
      "maksssksksss469_png.rf.28b9bff25e14168e37c939dc4a803d41.jpg  → mask_correct\n",
      "maksssksksss473_png.rf.00af4e841a267215312fd9dbda2b50ef.jpg  → mask_correct\n",
      "maksssksksss475_png.rf.2704a491ba718c192e2c735c4ce904e3.jpg  → mask_correct\n",
      "maksssksksss476_png.rf.da4ad52606f1c898fb1b071cd73f705d.jpg  → mask_incorrect\n",
      "maksssksksss47_png.rf.bfed0c3577395e5a2265186cff5f325b.jpg   → mask_correct\n",
      "maksssksksss483_png.rf.bd38c5da6d54a68446ae9bb5e8e1827d.jpg  → mask_correct\n",
      "maksssksksss483_png.rf.ca52e403fb008cf1ac2a1530f8718b78.jpg  → mask_correct\n",
      "maksssksksss491_png.rf.7caab9981bf2febab55f0552d67664e6.jpg  → mask_correct\n",
      "maksssksksss493_png.rf.bac59df62fe47525347e0f26a3ed7134.jpg  → mask_correct\n",
      "maksssksksss493_png.rf.beab1bdd4c14b712c2cabcd2f8b0db5a.jpg  → mask_correct\n",
      "maksssksksss496_png.rf.713919230d4ba4c021403b1f7e897382.jpg  → mask_incorrect\n",
      "maksssksksss499_png.rf.8d07bd0371c6207e76f50bcc8d7938b6.jpg  → mask_correct\n",
      "maksssksksss503_png.rf.1017475c80d0b58520c8d1dc57ea1dfd.jpg  → mask_correct\n",
      "maksssksksss504_png.rf.4a0af6b013dad490b59ed899d998090d.jpg  → mask_correct\n",
      "maksssksksss506_png.rf.e4e3144e0c7751ad32324ed4b775efd2.jpg  → no_mask\n",
      "maksssksksss507_png.rf.6bd24262d06682d4c74c74e51e5edd7b.jpg  → mask_correct\n",
      "maksssksksss508_png.rf.9eab09fc8f60a3b41db9adb28772f66d.jpg  → mask_correct\n",
      "maksssksksss514_png.rf.476db860aabdb3c03fb98f2be5954152.jpg  → mask_correct\n",
      "maksssksksss517_png.rf.2057aacb0406f49617c757e6eda29324.jpg  → mask_correct\n",
      "maksssksksss518_png.rf.1b3530a5898675de61b3eeaa379d146d.jpg  → mask_correct\n",
      "maksssksksss518_png.rf.df71bd7923dfb351927e44c6c31f9c89.jpg  → mask_correct\n",
      "maksssksksss520_png.rf.1ff22d4bb7d6f35bc1ef55e57e1b8df0.jpg  → mask_correct\n",
      "maksssksksss522_png.rf.f89ecb9e7fdeb0ddb85b364872e6f4a3.jpg  → mask_correct\n",
      "maksssksksss524_png.rf.88d07cd4e9de43f3b41a08301a415a92.jpg  → mask_correct\n",
      "maksssksksss528_png.rf.c798f3c11ffa5b0cc2a6bc3c06ba5261.jpg  → mask_correct\n",
      "maksssksksss52_png.rf.06eb2ee9525e2b319463cb03cd7e8ffa.jpg   → mask_correct\n",
      "maksssksksss530_png.rf.39ee8cd90c8a802cb6dc98474266fac1.jpg  → mask_correct\n",
      "maksssksksss530_png.rf.d1f7a5ddecb69159898ba3be93ad1de8.jpg  → mask_correct\n",
      "maksssksksss531_png.rf.7b72b0d5f6bfbf9413179963c76d2d3c.jpg  → mask_correct\n",
      "maksssksksss535_png.rf.223c1ff8a615bac9797dc64d3d9269b1.jpg  → mask_correct\n",
      "maksssksksss537_png.rf.76ac0289fb2bb135fbe6746427c82d2d.jpg  → mask_correct\n",
      "maksssksksss545_png.rf.ba1ca80e5778ce6e698c1e32e72ec079.jpg  → mask_correct\n",
      "maksssksksss547_png.rf.82c2e0e19468c639f149030f3f0183b0.jpg  → mask_correct\n",
      "maksssksksss547_png.rf.a1d845e7b162b7ea1f13eeb8d5f8fa0c.jpg  → mask_correct\n",
      "maksssksksss548_png.rf.5c8b33e42d2487bbf3210c1bc389dedb.jpg  → mask_correct\n",
      "maksssksksss549_png.rf.7973e6f0b1e88411d79f2bacb2592fce.jpg  → mask_correct\n",
      "maksssksksss54_png.rf.0c881c13d77e5d6d7f265a8f332180a4.jpg   → mask_correct\n",
      "maksssksksss54_png.rf.a23636c28b0a3f5203b1bf0b781e0c99.jpg   → mask_correct\n",
      "maksssksksss551_png.rf.9ec12b4f7204adc4eed68767cc6b3ca7.jpg  → mask_correct\n",
      "maksssksksss553_png.rf.22acbab7c828f4510e152e387db6f8c7.jpg  → mask_correct\n",
      "maksssksksss554_png.rf.0a03a13c70ba5956d25fbfbfe601a233.jpg  → mask_correct\n",
      "maksssksksss554_png.rf.8e5d007aee54227fc7a148c5037f0ac8.jpg  → mask_correct\n",
      "maksssksksss555_png.rf.f883fa223291b4920ecd7a63980e8d1e.jpg  → mask_correct\n",
      "maksssksksss556_png.rf.a3ca0f103fb9ae335590df64822a0451.jpg  → mask_correct\n",
      "maksssksksss55_png.rf.67afa0e5018d3a0405837e544db76fdb.jpg   → mask_correct\n",
      "maksssksksss55_png.rf.92641cee6d4f5987ab4c4a29fe3ab393.jpg   → mask_correct\n",
      "maksssksksss560_png.rf.ff2b32dec4667de7d9218345c23d323d.jpg  → mask_correct\n",
      "maksssksksss562_png.rf.3ecf9724c0dd4f9da479e4b2e97d2d72.jpg  → mask_correct\n",
      "maksssksksss567_png.rf.e571a2323aeb59c48c20da23005f3bc0.jpg  → mask_correct\n",
      "maksssksksss568_png.rf.f88d5bc5cf521d5b98ed33a3229a26d9.jpg  → mask_correct\n",
      "maksssksksss569_png.rf.808ecdc425337a7e47a5eb91a79d7e60.jpg  → mask_incorrect\n",
      "maksssksksss56_png.rf.2dd0071c1d17abff88fa5b7e60690b98.jpg   → mask_correct\n",
      "maksssksksss570_png.rf.33707772acb904e4d2bf30f7276c9bd0.jpg  → mask_correct\n",
      "maksssksksss571_png.rf.8f785d3e65fc175ce24c9978c2333144.jpg  → mask_correct\n",
      "maksssksksss576_png.rf.f13616654631df0ed4ace98845cb011d.jpg  → mask_incorrect\n",
      "maksssksksss578_png.rf.119d3b18f356eeff04f451b876b928b1.jpg  → mask_correct\n",
      "maksssksksss579_png.rf.712191d8292c2aa2a4462c146ec71936.jpg  → mask_correct\n",
      "maksssksksss580_png.rf.8e5bad0e3fedf791c1fd50fdfd5a2b1d.jpg  → mask_correct\n",
      "maksssksksss581_png.rf.1853d60c9b274779056823f9a8b25ba8.jpg  → mask_correct\n",
      "maksssksksss581_png.rf.456642dca68e44db6a5d0af7331649c3.jpg  → mask_correct\n",
      "maksssksksss582_png.rf.f20b753c33c2e445f4d08a0636086372.jpg  → mask_correct\n",
      "maksssksksss583_png.rf.1cdf849943ad6c9565711ad0bdbcbc40.jpg  → mask_correct\n",
      "maksssksksss584_png.rf.0f4bbaf750017e3b574f43d865108371.jpg  → mask_correct\n",
      "maksssksksss584_png.rf.a279e7b98e9db52471134e23c03ba459.jpg  → mask_correct\n",
      "maksssksksss585_png.rf.86e5f28b1996e452a75d65d37f0515cc.jpg  → mask_correct\n",
      "maksssksksss588_png.rf.21616345aef540bb16d6e04380bf8189.jpg  → mask_correct\n",
      "maksssksksss590_png.rf.c006ce8a382ab290a4c043e99179c2aa.jpg  → mask_correct\n",
      "maksssksksss600_png.rf.8319738341762eda65389546cb889bf2.jpg  → mask_correct\n",
      "maksssksksss601_png.rf.a3d2da3e96a42b98afd81537f1a68a66.jpg  → mask_correct\n",
      "maksssksksss605_png.rf.bc757adb86367df71bfbbbff86eda7ae.jpg  → mask_correct\n",
      "maksssksksss608_png.rf.44e9f5336bc40cc861fdb4d902c0f28e.jpg  → mask_correct\n",
      "maksssksksss614_png.rf.c85c630563815715a2542560acba1df5.jpg  → mask_correct\n",
      "maksssksksss616_png.rf.a4b77e015afde399df8590811500c822.jpg  → mask_correct\n",
      "maksssksksss618_png.rf.dc92a1e904820e67f48f1046627fdda0.jpg  → no_mask\n",
      "maksssksksss61_png.rf.ddccab2eacb7b22a5755488bc8f9ace2.jpg   → mask_correct\n",
      "maksssksksss620_png.rf.aa100f0a161b37455bbf832d9376d93b.jpg  → mask_correct\n",
      "maksssksksss623_png.rf.d90f3b71c881c954de7bd8c3cbbfc4e9.jpg  → mask_correct\n",
      "maksssksksss625_png.rf.ec88d7207141f416d4c0ffbc0e4e5669.jpg  → mask_correct\n",
      "maksssksksss626_png.rf.5ebeadc65b638f1f0ea2fd434991d689.jpg  → mask_correct\n",
      "maksssksksss629_png.rf.3f07e43eef070d88571810f34db07ad5.jpg  → mask_correct\n",
      "maksssksksss636_png.rf.7854ffe1a1abd68ba85c90c30f4c15b6.jpg  → mask_correct\n",
      "maksssksksss636_png.rf.903dc49a620662a80b7a8d75df6743d9.jpg  → mask_correct\n",
      "maksssksksss63_png.rf.a78f71dae77477c2c85b132fbf9bd169.jpg   → mask_correct\n",
      "maksssksksss641_png.rf.853a3f3be11dc30e49aec3d5659483a3.jpg  → mask_correct\n",
      "maksssksksss644_png.rf.c0e5e06360fd627817f55f717c4005e2.jpg  → mask_correct\n",
      "maksssksksss648_png.rf.4d6cea56468e992c1de21ea43d8d53c3.jpg  → mask_correct\n",
      "maksssksksss654_png.rf.41981ee4fed86c9f16c1c6296b25b66d.jpg  → mask_correct\n",
      "maksssksksss658_png.rf.5f9c077ff45e69bea7104d3f770aa6ce.jpg  → mask_correct\n",
      "maksssksksss660_png.rf.fb422953c3701b7cf9e441bc93975508.jpg  → mask_correct\n",
      "maksssksksss662_png.rf.719de99a02d6eaf2d9bbc8f2c708a581.jpg  → mask_correct\n",
      "maksssksksss664_png.rf.b65ffa30d56248d920b8c8790e4776b4.jpg  → mask_correct\n",
      "maksssksksss665_png.rf.11dbcf9cd210da86a32340ea4a167e9c.jpg  → mask_correct\n",
      "maksssksksss666_png.rf.696f20575c3aa1deca6a1ecfa2f044a0.jpg  → mask_correct\n",
      "maksssksksss666_png.rf.e3791b08c1eaa6e5e39fe5df71c31632.jpg  → mask_correct\n",
      "maksssksksss669_png.rf.8443693f43311f68159b9473171bbeba.jpg  → mask_correct\n",
      "maksssksksss673_png.rf.b81d1aed04f0c4d4959bb674f7a7ff53.jpg  → mask_incorrect\n",
      "maksssksksss674_png.rf.3f27d893296da7d8efdf47a455d027e6.jpg  → mask_correct\n",
      "maksssksksss675_png.rf.d5c46ad0fe3358f60f853bdd825260d5.jpg  → mask_correct\n",
      "maksssksksss679_png.rf.6b496c2ece6526ced24f2b3d53f86fcb.jpg  → mask_correct\n",
      "maksssksksss680_png.rf.386cc5bb343a5ac29aa5d59c3aaaa450.jpg  → mask_correct\n",
      "maksssksksss680_png.rf.a0efb98022ae88c116968ab3e691e2d1.jpg  → mask_correct\n",
      "maksssksksss684_png.rf.c0b767ab356badc60b7456a7df58e95a.jpg  → mask_correct\n",
      "maksssksksss687_png.rf.fed3aa4f0ef547c96ad79fa87189da0b.jpg  → mask_correct\n",
      "maksssksksss691_png.rf.0654d5a1a6686d0208d3b96b9fb90f87.jpg  → mask_correct\n",
      "maksssksksss692_png.rf.efa95a6432b5736cf52f687bb294f8ba.jpg  → mask_correct\n",
      "maksssksksss696_png.rf.e1f808c60127cfe7f9c05731f758b8e0.jpg  → mask_correct\n",
      "maksssksksss698_png.rf.74d2f6ff10148c9d57a148727ab336d8.jpg  → mask_correct\n",
      "maksssksksss699_png.rf.1bbf817091c3709399a5663ca07fe3d2.jpg  → mask_correct\n",
      "maksssksksss702_png.rf.e8b57fb7e096f2fb025cb0cccf07d819.jpg  → mask_correct\n",
      "maksssksksss704_png.rf.2c832db6155214768bfc89743b72a3bc.jpg  → mask_correct\n",
      "maksssksksss708_png.rf.05b399fbdb4400fe24cc95bcb0987976.jpg  → mask_correct\n",
      "maksssksksss708_png.rf.4eef6f7320be52535b618f22693958e0.jpg  → mask_correct\n",
      "maksssksksss709_png.rf.24c9cecffdbb45c5435b885e8f78d7b7.jpg  → mask_correct\n",
      "maksssksksss710_png.rf.020aa781caff86eecd463d9d60042a21.jpg  → mask_correct\n",
      "maksssksksss710_png.rf.4ee33245f4adff8480fa71904421cf90.jpg  → mask_correct\n",
      "maksssksksss714_png.rf.392ad419861dc24b5cedb938fdbd4f70.jpg  → mask_correct\n",
      "maksssksksss714_png.rf.f853c751e8b97c434b117fe9f84c1faf.jpg  → mask_correct\n",
      "maksssksksss719_png.rf.416db514556a8dee3f61cae4bbad45a1.jpg  → mask_correct\n",
      "maksssksksss724_png.rf.bc62352fd090396b07a9f8dadfd7fa62.jpg  → mask_correct\n",
      "maksssksksss725_png.rf.a36843b9e807d0f5f71c40f2567d5fe4.jpg  → mask_incorrect\n",
      "maksssksksss727_png.rf.70620332014933439a08861fbb264c54.jpg  → mask_correct\n",
      "maksssksksss72_png.rf.02e06268eada8a691f10e73a251b5bcc.jpg   → mask_correct\n",
      "maksssksksss733_png.rf.699d1f1999591539fd620b0a22807598.jpg  → mask_correct\n",
      "maksssksksss739_png.rf.89172bc71ba011e1f07c0730caf6e492.jpg  → mask_correct\n",
      "maksssksksss741_png.rf.272dc97718641a49afe7e3910f23ab88.jpg  → mask_correct\n",
      "maksssksksss744_png.rf.bd25de2ce6f538f640c780bb15c10978.jpg  → mask_correct\n",
      "maksssksksss747_png.rf.175bc85a6221d168e829b003a90db076.jpg  → mask_correct\n",
      "maksssksksss754_png.rf.e49af0f1a0fa3b4fe26de65d763d281f.jpg  → mask_correct\n",
      "maksssksksss756_png.rf.28a5e755817e2ebc2ef11b31bb01a2f7.jpg  → mask_correct\n",
      "maksssksksss75_png.rf.30e946ac83b729f708b40c4db510586c.jpg   → mask_correct\n",
      "maksssksksss760_png.rf.ae89e9ad068d0d823303661c7d87a639.jpg  → mask_incorrect\n",
      "maksssksksss76_png.rf.f4387767fde11fc5ba0c6ded13a5d60a.jpg   → mask_correct\n",
      "maksssksksss770_png.rf.70f72ab00225b187cc55df7ce1b5d285.jpg  → mask_correct\n",
      "maksssksksss771_png.rf.dd7806a18eadd18987cf0442e95b36ff.jpg  → mask_correct\n",
      "maksssksksss772_png.rf.3cd2a2735d2afe4ebbbe1f3d500db21b.jpg  → mask_correct\n",
      "maksssksksss773_png.rf.88515e8f98a06060b10f3ef8c604f363.jpg  → mask_correct\n",
      "maksssksksss774_png.rf.7d9bb7b8afab87fc9778bea99483671d.jpg  → mask_correct\n",
      "maksssksksss783_png.rf.45c73785717eb3e4628299b30188eddc.jpg  → mask_correct\n",
      "maksssksksss800_png.rf.f34907b73932ab7f1f6e3de6c9010b71.jpg  → mask_correct\n",
      "maksssksksss80_png.rf.eb3d75893faa2b1b608c8be4cae5d525.jpg   → mask_correct\n",
      "maksssksksss810_png.rf.a99c41495f9a30c164291f59877bee80.jpg  → mask_correct\n",
      "maksssksksss814_png.rf.03b023df140836688c2f77182ec79ead.jpg  → mask_correct\n",
      "maksssksksss817_png.rf.7c5e30331ae15007fd3fcc78cb28b10a.jpg  → mask_incorrect\n",
      "maksssksksss825_png.rf.5dc17c817a1e54f0e6dfd29c8082fe8a.jpg  → mask_correct\n",
      "maksssksksss825_png.rf.ce78bb6f48adc66da70b3d8b60a2708d.jpg  → mask_correct\n",
      "maksssksksss827_png.rf.03f93de94807b528bf70208e3b583788.jpg  → mask_correct\n",
      "maksssksksss827_png.rf.c7d56ea16a8580173ac4efd12850d3ec.jpg  → mask_correct\n",
      "maksssksksss834_png.rf.9638ce13cf151ca3af8ba1bf92248e4e.jpg  → mask_correct\n",
      "maksssksksss836_png.rf.fd7ed813dc86f6ae7e01086d658ef5dd.jpg  → mask_correct\n",
      "maksssksksss837_png.rf.c6f101a62371e7e602814304e5c16132.jpg  → mask_incorrect\n",
      "maksssksksss837_png.rf.d2929ed369b2dcfd50b79fc78e70a5f2.jpg  → mask_incorrect\n",
      "maksssksksss83_png.rf.7888bb278b2f8f39689119b00d862888.jpg   → mask_correct\n",
      "maksssksksss83_png.rf.e59ed9ef975ae6a27689e52dd9f16b53.jpg   → mask_correct\n",
      "maksssksksss842_png.rf.b48fe65883fe78e108c1a23eaf52f0ad.jpg  → mask_correct\n",
      "maksssksksss848_png.rf.ceb1b922f58ffba89da4b25ba2e08d01.jpg  → mask_correct\n",
      "maksssksksss850_png.rf.9a7b3473a5c4c4954e425b61ba2f8541.jpg  → mask_correct\n",
      "maksssksksss851_png.rf.9b576cb3de382768c63285537bce9fbb.jpg  → mask_correct\n",
      "maksssksksss852_png.rf.148eb9335824c65c70174ce380bbe1ba.jpg  → mask_correct\n",
      "maksssksksss852_png.rf.6dba6ecc38214d84a7746ca4cf7fcc7a.jpg  → mask_correct\n",
      "maksssksksss85_png.rf.4a76b78fdab140c6bf0fd8d7868c6ad0.jpg   → mask_correct\n",
      "maksssksksss86_png.rf.1e77994f1ba2467eac685d5f9e71bfdc.jpg   → mask_correct\n",
      "maksssksksss86_png.rf.e1ecaef3a296fe230c9ba869d4abf369.jpg   → mask_correct\n",
      "maksssksksss87_png.rf.c9681ab690885dbf8b678b9e508d8ee9.jpg   → mask_incorrect\n",
      "maksssksksss89_png.rf.f1c2ba09acc90ea33728e135d203d84d.jpg   → mask_correct\n",
      "maksssksksss94_png.rf.beaf5d2bcadc03242541225f4e9c76dc.jpg   → mask_correct\n",
      "maksssksksss94_png.rf.e02548ba369b20f07f4070c570e69ec2.jpg   → mask_correct\n",
      "maksssksksss96_png.rf.0e5e01422a03a39be87456df9b439943.jpg   → mask_correct\n",
      "maksssksksss9_png.rf.9d4482a0735b61456ab4dc37eeba846f.jpg    → mask_correct\n",
      "maxresdefault-2-_jpg.rf.066b8b66dc5749afd395580b6ca3dc97.jpg → mask_incorrect\n",
      "nCoV_17_20200204_jpg.rf.9ae9215e2ebee501f240df9838cb8ed0.jpg → mask_correct\n",
      "NE2C4S7JDZLP9IT3YRHG_jpg.rf.e14ad8a3c222e1541112a9cb65bcb501.jpg → mask_correct\n",
      "photo_0001_2020-02-04_F4IA3IB100AN0001NOS_jpg.rf.d0819cca1e486d144179d1e5f9178a7a.jpg → mask_correct\n",
      "pjecDNMmCUQmbDoJx1fdqolnfHtpsfFK8jTA2Ng0wNg_jpeg.rf.15482b50c678cadb29bcf4c566ad895a.jpg → mask_correct\n",
      "Q5PURTAXSEMDZ0OBKJY4_jpg.rf.2f3f2123819fe1b8a18936073f53d30e.jpg → mask_correct\n",
      "RIBV6WXJC8GOHS74KQAD_jpg.rf.d2d67afc56bb6ac3d07ce6e8aaa56f58.jpg → mask_correct\n",
      "RTX7CCFN_jpg.rf.abca7eb76946746e1d5216e3199996af.jpg         → mask_correct\n",
      "sars-gettyimages-157005245_jpg.rf.af599e2630ad995a1775d416f7085b01.jpg → mask_incorrect\n",
      "sdfsdfsfff_jpg.rf.5f7b7ef717050553cc45a6871760d66b.jpg       → mask_correct\n",
      "virus_protection123_jpg.rf.d0a50c9b895d679db37723af47ecbfb7.jpg → mask_incorrect\n",
      "YCMJIK54Z6AQ3VNOXE72_jpg.rf.e6ed75a17c612944080ca86966aa17d9.jpg → mask_correct\n",
      "YFLOE8CZT9B642NDKPQW_jpg.rf.6f646bf23f79c25105ea2746bddb1a9b.jpg → mask_correct\n",
      "ynews-widspread_masking_webp.rf.677f216937b4062a08d656c674bf8dbe.jpg → mask_correct\n",
      "YORMPNJL5KX9Z1S8WBFI_jpg.rf.0e2cc476f51ae8e2203fdca2b3285b92.jpg → mask_correct\n",
      "_121620073_gettyimages-1212922973_jpg.rf.c52fda8559350b1ac8b997882ec10c73.jpg → mask_incorrect\n"
     ]
    }
   ],
   "source": [
    "import os\n",
    "import numpy as np\n",
    "from tensorflow.keras.preprocessing import image\n",
    "\n",
    "\n",
    "test_folder = \"Downloads\\ML Test\\CNN\\Mask\\images\"\n",
    "img_size = (64, 64)\n",
    "\n",
    "# Class labels from your trained model\n",
    "class_indices = training_set.class_indices\n",
    "idx_to_class = {v: k for k, v in class_indices.items()}\n",
    "\n",
    "print(\"Class mapping:\", idx_to_class, \"\\n\")\n",
    "\n",
    "# Looping through each image\n",
    "for file in os.listdir(test_folder):\n",
    "    if not file.lower().endswith((\".jpg\", \".jpeg\", \".png\")):\n",
    "        continue\n",
    "\n",
    "    img_path = os.path.join(test_folder, file)\n",
    "\n",
    "    # Preprocessing the image before making predictions\n",
    "    img = image.load_img(img_path, target_size=img_size)\n",
    "    x = image.img_to_array(img)\n",
    "    x = np.expand_dims(x, axis=0) / 255.0\n",
    "\n",
    "    # Predictions\n",
    "    pred = model.predict(x, verbose=0)\n",
    "    predicted_class = idx_to_class[np.argmax(pred)]\n",
    "\n",
    "    print(f\"{file:60s} → {predicted_class}\")\n"
   ]
  },
  {
   "cell_type": "markdown",
   "metadata": {},
   "source": [
    "### Creating the Confusion Matrix "
   ]
  },
  {
   "cell_type": "code",
   "execution_count": 66,
   "metadata": {},
   "outputs": [
    {
     "name": "stdout",
     "output_type": "stream",
     "text": [
      "Found 315 images belonging to 3 classes.\n"
     ]
    },
    {
     "name": "stderr",
     "output_type": "stream",
     "text": [
      "C:\\ProgramData\\anaconda3\\Lib\\site-packages\\keras\\src\\trainers\\data_adapters\\py_dataset_adapter.py:121: UserWarning: Your `PyDataset` class should call `super().__init__(**kwargs)` in its constructor. `**kwargs` can include `workers`, `use_multiprocessing`, `max_queue_size`. Do not pass these arguments to `fit()`, as they will be ignored.\n",
      "  self._warn_if_super_not_called()\n"
     ]
    },
    {
     "name": "stdout",
     "output_type": "stream",
     "text": [
      "\u001b[1m10/10\u001b[0m \u001b[32m━━━━━━━━━━━━━━━━━━━━\u001b[0m\u001b[37m\u001b[0m \u001b[1m3s\u001b[0m 134ms/step - accuracy: 0.9048 - loss: 0.4149\n",
      "Evaluate accuracy: 0.9047619104385376\n",
      "\u001b[1m10/10\u001b[0m \u001b[32m━━━━━━━━━━━━━━━━━━━━\u001b[0m\u001b[37m\u001b[0m \u001b[1m2s\u001b[0m 163ms/step\n"
     ]
    },
    {
     "data": {
      "image/png": "[encoded data removed]",
      "text/plain": [
       "<Figure size 600x500 with 2 Axes>"
      ]
     },
     "metadata": {},
     "output_type": "display_data"
    },
    {
     "name": "stdout",
     "output_type": "stream",
     "text": [
      "Overall Accuracy: 0.9047619047619048\n",
      "\n",
      "Classification Report:\n",
      "\n",
      "                precision    recall  f1-score   support\n",
      "\n",
      "  mask_correct       0.96      0.94      0.95       216\n",
      "mask_incorrect       0.72      0.66      0.69        32\n",
      "       no_mask       0.82      0.93      0.87        67\n",
      "\n",
      "      accuracy                           0.90       315\n",
      "     macro avg       0.83      0.84      0.83       315\n",
      "  weighted avg       0.91      0.90      0.90       315\n",
      "\n"
     ]
    }
   ],
   "source": [
    "from sklearn.metrics import confusion_matrix, classification_report, accuracy_score\n",
    "import seaborn as sns\n",
    "import matplotlib.pyplot as plt\n",
    "\n",
    "# Here I am comparing the validation (test set) accuracies of the model with the confusion matrix, to see if they are similar\n",
    "\n",
    "# 1. Test images generator (no shuffle!)\n",
    "test_set = test_datagen.flow_from_directory(\n",
    "    'Downloads/ML Test/CNN/Mask/output/test',\n",
    "    target_size=(64, 64),\n",
    "    batch_size=32,\n",
    "    class_mode='categorical',\n",
    "    shuffle=False  \n",
    ")\n",
    "\n",
    "# 2. CNN Model evaluation \n",
    "val_loss, val_acc = model.evaluate(test_set)\n",
    "print(\"Evaluate accuracy:\", val_acc)\n",
    "\n",
    "# 3. Predict on test set \n",
    "y_true = test_set.classes\n",
    "y_pred_probs = model.predict(test_set)\n",
    "y_pred = np.argmax(y_pred_probs, axis=1)\n",
    "\n",
    "# 4. Confusion matrix\n",
    "class_names = list(test_set.class_indices.keys())\n",
    "\n",
    "cm = confusion_matrix(y_true, y_pred)\n",
    "\n",
    "plt.figure(figsize=(6, 5))\n",
    "sns.heatmap(cm, annot=True, fmt='d', cmap='Blues',\n",
    "            xticklabels=class_names, yticklabels=class_names)\n",
    "plt.title('Confusion Matrix')\n",
    "plt.xlabel('Predicted Label')\n",
    "plt.ylabel('True Label')\n",
    "plt.show()\n",
    "\n",
    "print(\"Overall Accuracy:\", accuracy_score(y_true, y_pred))\n",
    "print(\"\\nClassification Report:\\n\")\n",
    "print(classification_report(y_true, y_pred, target_names=class_names))"
   ]
  },
  {
   "cell_type": "code",
   "execution_count": null,
   "metadata": {},
   "outputs": [],
   "source": []
  }
 ],
 "metadata": {
  "colab": {
   "collapsed_sections": [],
   "name": "convolutional_neural_network.ipynb",
   "provenance": [],
   "toc_visible": true
  },
  "kernelspec": {
   "display_name": "Python 3 (ipykernel)",
   "language": "python",
   "name": "python3"
  },
  "language_info": {
   "codemirror_mode": {
    "name": "ipython",
    "version": 3
   },
   "file_extension": ".py",
   "mimetype": "text/x-python",
   "name": "python",
   "nbconvert_exporter": "python",
   "pygments_lexer": "ipython3",
   "version": "3.12.4"
  }
 },
 "nbformat": 4,
 "nbformat_minor": 4
}
